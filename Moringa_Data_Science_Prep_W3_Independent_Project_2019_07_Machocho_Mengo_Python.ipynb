{
  "nbformat": 4,
  "nbformat_minor": 0,
  "metadata": {
    "colab": {
      "name": "Moringa_Data_Science_Prep_W3_Independent_Project_2019_07_Machocho_Mengo_Python",
      "provenance": [],
      "include_colab_link": true
    },
    "kernelspec": {
      "name": "python3",
      "display_name": "Python 3"
    }
  },
  "cells": [
    {
      "cell_type": "markdown",
      "metadata": {
        "id": "view-in-github",
        "colab_type": "text"
      },
      "source": [
        "<a href=\"https://colab.research.google.com/github/Machocho254/Week-3-IP/blob/master/Moringa_Data_Science_Prep_W3_Independent_Project_2019_07_Machocho_Mengo_Python.ipynb\" target=\"_parent\"><img src=\"https://colab.research.google.com/assets/colab-badge.svg\" alt=\"Open In Colab\"/></a>"
      ]
    },
    {
      "cell_type": "code",
      "metadata": {
        "id": "7d97nBinA0Hs",
        "colab_type": "code",
        "colab": {}
      },
      "source": [
        "#Start with importing all the dictionaries\n",
        "import pandas as pd\n",
        "import numpy as np"
      ],
      "execution_count": 0,
      "outputs": []
    },
    {
      "cell_type": "code",
      "metadata": {
        "id": "wYhHN358ExO9",
        "colab_type": "code",
        "colab": {
          "base_uri": "https://localhost:8080/",
          "height": 377
        },
        "outputId": "f0efec30-3cab-471d-862f-30259e0b8194"
      },
      "source": [
        "# creating pandas dataframes \n",
        "#/content/cells_geo_description.xlsx\n",
        "\n",
        "geo_descr = pd.read_excel('/content/cells_geo_description.xlsx', header = 0, sheet_name = 0)\n",
        "geo_descr"
      ],
      "execution_count": 3,
      "outputs": [
        {
          "output_type": "execute_result",
          "data": {
            "text/html": [
              "<div>\n",
              "<style scoped>\n",
              "    .dataframe tbody tr th:only-of-type {\n",
              "        vertical-align: middle;\n",
              "    }\n",
              "\n",
              "    .dataframe tbody tr th {\n",
              "        vertical-align: top;\n",
              "    }\n",
              "\n",
              "    .dataframe thead th {\n",
              "        text-align: right;\n",
              "    }\n",
              "</style>\n",
              "<table border=\"1\" class=\"dataframe\">\n",
              "  <thead>\n",
              "    <tr style=\"text-align: right;\">\n",
              "      <th></th>\n",
              "      <th>Column name</th>\n",
              "      <th>Description</th>\n",
              "      <th>Format</th>\n",
              "    </tr>\n",
              "  </thead>\n",
              "  <tbody>\n",
              "    <tr>\n",
              "      <th>0</th>\n",
              "      <td>VILLES</td>\n",
              "      <td>City</td>\n",
              "      <td>String</td>\n",
              "    </tr>\n",
              "    <tr>\n",
              "      <th>1</th>\n",
              "      <td>STATUS</td>\n",
              "      <td>In Service or not</td>\n",
              "      <td>String</td>\n",
              "    </tr>\n",
              "    <tr>\n",
              "      <th>2</th>\n",
              "      <td>LOCALISATION</td>\n",
              "      <td>in ABIDJAN or not</td>\n",
              "      <td>String</td>\n",
              "    </tr>\n",
              "    <tr>\n",
              "      <th>3</th>\n",
              "      <td>DECOUPZONE</td>\n",
              "      <td>Geographical Zone</td>\n",
              "      <td>String</td>\n",
              "    </tr>\n",
              "    <tr>\n",
              "      <th>4</th>\n",
              "      <td>ZONENAME</td>\n",
              "      <td>Name of Zone</td>\n",
              "      <td>String</td>\n",
              "    </tr>\n",
              "    <tr>\n",
              "      <th>5</th>\n",
              "      <td>LONGITUDE</td>\n",
              "      <td>Longitude</td>\n",
              "      <td>Float</td>\n",
              "    </tr>\n",
              "    <tr>\n",
              "      <th>6</th>\n",
              "      <td>LATITUDE</td>\n",
              "      <td>Latitude</td>\n",
              "      <td>Float</td>\n",
              "    </tr>\n",
              "    <tr>\n",
              "      <th>7</th>\n",
              "      <td>REGION</td>\n",
              "      <td>Region</td>\n",
              "      <td>String</td>\n",
              "    </tr>\n",
              "    <tr>\n",
              "      <th>8</th>\n",
              "      <td>AREA</td>\n",
              "      <td>Area</td>\n",
              "      <td>String</td>\n",
              "    </tr>\n",
              "    <tr>\n",
              "      <th>9</th>\n",
              "      <td>CELL_ID</td>\n",
              "      <td>ID of the cell</td>\n",
              "      <td>String</td>\n",
              "    </tr>\n",
              "    <tr>\n",
              "      <th>10</th>\n",
              "      <td>SITE_CODE</td>\n",
              "      <td>Site (there are several cells per site, severa...</td>\n",
              "      <td>String</td>\n",
              "    </tr>\n",
              "  </tbody>\n",
              "</table>\n",
              "</div>"
            ],
            "text/plain": [
              "     Column name                                        Description  Format\n",
              "0         VILLES                                               City  String\n",
              "1         STATUS                                  In Service or not  String\n",
              "2   LOCALISATION                                  in ABIDJAN or not  String\n",
              "3     DECOUPZONE                                  Geographical Zone  String\n",
              "4       ZONENAME                                       Name of Zone  String\n",
              "5      LONGITUDE                                          Longitude   Float\n",
              "6       LATITUDE                                           Latitude   Float\n",
              "7         REGION                                             Region  String\n",
              "8           AREA                                               Area  String\n",
              "9        CELL_ID                                     ID of the cell  String\n",
              "10     SITE_CODE  Site (there are several cells per site, severa...  String"
            ]
          },
          "metadata": {
            "tags": []
          },
          "execution_count": 3
        }
      ]
    },
    {
      "cell_type": "code",
      "metadata": {
        "id": "VOX1sA_dufMP",
        "colab_type": "code",
        "colab": {
          "base_uri": "https://localhost:8080/",
          "height": 158
        },
        "outputId": "ae13685d-e8a5-4a1e-cd38-bbdea7080ae7"
      },
      "source": [
        "geo_descr.info()"
      ],
      "execution_count": 16,
      "outputs": [
        {
          "output_type": "stream",
          "text": [
            "<class 'pandas.core.frame.DataFrame'>\n",
            "RangeIndex: 11 entries, 0 to 10\n",
            "Data columns (total 3 columns):\n",
            "Column name    11 non-null object\n",
            "Description    11 non-null object\n",
            "Format         11 non-null object\n",
            "dtypes: object(3)\n",
            "memory usage: 392.0+ bytes\n"
          ],
          "name": "stdout"
        }
      ]
    },
    {
      "cell_type": "code",
      "metadata": {
        "id": "gRTbnvwRulbK",
        "colab_type": "code",
        "colab": {
          "base_uri": "https://localhost:8080/",
          "height": 167
        },
        "outputId": "32ad3fd7-3d5f-428c-9d54-927d6f4e31a7"
      },
      "source": [
        "geo_descr.describe()"
      ],
      "execution_count": 17,
      "outputs": [
        {
          "output_type": "execute_result",
          "data": {
            "text/html": [
              "<div>\n",
              "<style scoped>\n",
              "    .dataframe tbody tr th:only-of-type {\n",
              "        vertical-align: middle;\n",
              "    }\n",
              "\n",
              "    .dataframe tbody tr th {\n",
              "        vertical-align: top;\n",
              "    }\n",
              "\n",
              "    .dataframe thead th {\n",
              "        text-align: right;\n",
              "    }\n",
              "</style>\n",
              "<table border=\"1\" class=\"dataframe\">\n",
              "  <thead>\n",
              "    <tr style=\"text-align: right;\">\n",
              "      <th></th>\n",
              "      <th>Column name</th>\n",
              "      <th>Description</th>\n",
              "      <th>Format</th>\n",
              "    </tr>\n",
              "  </thead>\n",
              "  <tbody>\n",
              "    <tr>\n",
              "      <th>count</th>\n",
              "      <td>11</td>\n",
              "      <td>11</td>\n",
              "      <td>11</td>\n",
              "    </tr>\n",
              "    <tr>\n",
              "      <th>unique</th>\n",
              "      <td>11</td>\n",
              "      <td>11</td>\n",
              "      <td>2</td>\n",
              "    </tr>\n",
              "    <tr>\n",
              "      <th>top</th>\n",
              "      <td>VILLES</td>\n",
              "      <td>in ABIDJAN or not</td>\n",
              "      <td>String</td>\n",
              "    </tr>\n",
              "    <tr>\n",
              "      <th>freq</th>\n",
              "      <td>1</td>\n",
              "      <td>1</td>\n",
              "      <td>9</td>\n",
              "    </tr>\n",
              "  </tbody>\n",
              "</table>\n",
              "</div>"
            ],
            "text/plain": [
              "       Column name        Description  Format\n",
              "count           11                 11      11\n",
              "unique          11                 11       2\n",
              "top         VILLES  in ABIDJAN or not  String\n",
              "freq             1                  1       9"
            ]
          },
          "metadata": {
            "tags": []
          },
          "execution_count": 17
        }
      ]
    },
    {
      "cell_type": "code",
      "metadata": {
        "id": "EFu4Byybkv0T",
        "colab_type": "code",
        "colab": {
          "base_uri": "https://localhost:8080/",
          "height": 317
        },
        "outputId": "eeb30e4b-b287-478f-9046-c29de35293db"
      },
      "source": [
        "cdr_descr = pd.read_excel('/content/CDR_description.xlsx', header = 1, sheet_name = 0)\n",
        "cdr_descr\n"
      ],
      "execution_count": 14,
      "outputs": [
        {
          "output_type": "execute_result",
          "data": {
            "text/html": [
              "<div>\n",
              "<style scoped>\n",
              "    .dataframe tbody tr th:only-of-type {\n",
              "        vertical-align: middle;\n",
              "    }\n",
              "\n",
              "    .dataframe tbody tr th {\n",
              "        vertical-align: top;\n",
              "    }\n",
              "\n",
              "    .dataframe thead th {\n",
              "        text-align: right;\n",
              "    }\n",
              "</style>\n",
              "<table border=\"1\" class=\"dataframe\">\n",
              "  <thead>\n",
              "    <tr style=\"text-align: right;\">\n",
              "      <th></th>\n",
              "      <th>PRODUCT</th>\n",
              "      <th>Voice or SMS</th>\n",
              "      <th>String</th>\n",
              "    </tr>\n",
              "  </thead>\n",
              "  <tbody>\n",
              "    <tr>\n",
              "      <th>0</th>\n",
              "      <td>VALUE</td>\n",
              "      <td>Billing price</td>\n",
              "      <td>Integer</td>\n",
              "    </tr>\n",
              "    <tr>\n",
              "      <th>1</th>\n",
              "      <td>DATE_TIME</td>\n",
              "      <td>Time in format yyyy-MM-dd hh:mm:ss.0</td>\n",
              "      <td>String</td>\n",
              "    </tr>\n",
              "    <tr>\n",
              "      <th>2</th>\n",
              "      <td>CELL_ON_SITE</td>\n",
              "      <td>Which cell in the site was used (not needed here)</td>\n",
              "      <td>Integer</td>\n",
              "    </tr>\n",
              "    <tr>\n",
              "      <th>3</th>\n",
              "      <td>DW_A_NUMBER_INT</td>\n",
              "      <td>Anonymized phone number of the person for whic...</td>\n",
              "      <td>String</td>\n",
              "    </tr>\n",
              "    <tr>\n",
              "      <th>4</th>\n",
              "      <td>DW_B_NUMBER_INT</td>\n",
              "      <td>Anonymized phone number of the counterparty</td>\n",
              "      <td>String</td>\n",
              "    </tr>\n",
              "    <tr>\n",
              "      <th>5</th>\n",
              "      <td>COUNTRY_A</td>\n",
              "      <td>Country of party A (useless here)</td>\n",
              "      <td>String</td>\n",
              "    </tr>\n",
              "    <tr>\n",
              "      <th>6</th>\n",
              "      <td>COUNTRY_B</td>\n",
              "      <td>Country of party B (useless here)</td>\n",
              "      <td>String</td>\n",
              "    </tr>\n",
              "    <tr>\n",
              "      <th>7</th>\n",
              "      <td>CELL_ID</td>\n",
              "      <td>ID of the cell</td>\n",
              "      <td>String</td>\n",
              "    </tr>\n",
              "    <tr>\n",
              "      <th>8</th>\n",
              "      <td>SITE_ID</td>\n",
              "      <td>ID of the SITE</td>\n",
              "      <td>String</td>\n",
              "    </tr>\n",
              "  </tbody>\n",
              "</table>\n",
              "</div>"
            ],
            "text/plain": [
              "           PRODUCT                                       Voice or SMS   String\n",
              "0            VALUE                                      Billing price  Integer\n",
              "1        DATE_TIME               Time in format yyyy-MM-dd hh:mm:ss.0   String\n",
              "2     CELL_ON_SITE  Which cell in the site was used (not needed here)  Integer\n",
              "3  DW_A_NUMBER_INT  Anonymized phone number of the person for whic...   String\n",
              "4  DW_B_NUMBER_INT        Anonymized phone number of the counterparty   String\n",
              "5        COUNTRY_A                  Country of party A (useless here)   String\n",
              "6        COUNTRY_B                  Country of party B (useless here)   String\n",
              "7          CELL_ID                                     ID of the cell   String\n",
              "8          SITE_ID                                     ID of the SITE   String"
            ]
          },
          "metadata": {
            "tags": []
          },
          "execution_count": 14
        }
      ]
    },
    {
      "cell_type": "code",
      "metadata": {
        "id": "b3d1PzTImAc_",
        "colab_type": "code",
        "colab": {
          "base_uri": "https://localhost:8080/",
          "height": 197
        },
        "outputId": "2cb00570-f96f-45ee-a1ce-3d48120366ab"
      },
      "source": [
        "cells_geo = pd.read_csv('/content/cells_geo.csv')\n",
        "cells_geo.head()"
      ],
      "execution_count": 15,
      "outputs": [
        {
          "output_type": "execute_result",
          "data": {
            "text/html": [
              "<div>\n",
              "<style scoped>\n",
              "    .dataframe tbody tr th:only-of-type {\n",
              "        vertical-align: middle;\n",
              "    }\n",
              "\n",
              "    .dataframe tbody tr th {\n",
              "        vertical-align: top;\n",
              "    }\n",
              "\n",
              "    .dataframe thead th {\n",
              "        text-align: right;\n",
              "    }\n",
              "</style>\n",
              "<table border=\"1\" class=\"dataframe\">\n",
              "  <thead>\n",
              "    <tr style=\"text-align: right;\">\n",
              "      <th></th>\n",
              "      <th>;VILLES;STATUS;LOCALISATION;DECOUPZONE;ZONENAME;LONGITUDE;LATITUDE;REGION;AREA;CELL_ID;SITE_CODE</th>\n",
              "    </tr>\n",
              "  </thead>\n",
              "  <tbody>\n",
              "    <tr>\n",
              "      <th>0</th>\n",
              "      <td>0;ADJAME;In Service;ABIDJAN;\"\"\"Abidjan_EST\";AG...</td>\n",
              "    </tr>\n",
              "    <tr>\n",
              "      <th>1</th>\n",
              "      <td>1;ADJAME;In Service;ABIDJAN;\"\"\"Abidjan_EST\";AG...</td>\n",
              "    </tr>\n",
              "    <tr>\n",
              "      <th>2</th>\n",
              "      <td>2;ADJAME;In Service;ABIDJAN;\"\"\"Abidjan_EST\";AG...</td>\n",
              "    </tr>\n",
              "    <tr>\n",
              "      <th>3</th>\n",
              "      <td>3;ASSINIE;In Service;INTERIEUR;Grand-EST;\"ASSI...</td>\n",
              "    </tr>\n",
              "    <tr>\n",
              "      <th>4</th>\n",
              "      <td>4;ASSINIE;In Service;INTERIEUR;Grand-EST;\"ASSI...</td>\n",
              "    </tr>\n",
              "  </tbody>\n",
              "</table>\n",
              "</div>"
            ],
            "text/plain": [
              "  ;VILLES;STATUS;LOCALISATION;DECOUPZONE;ZONENAME;LONGITUDE;LATITUDE;REGION;AREA;CELL_ID;SITE_CODE\n",
              "0  0;ADJAME;In Service;ABIDJAN;\"\"\"Abidjan_EST\";AG...                                              \n",
              "1  1;ADJAME;In Service;ABIDJAN;\"\"\"Abidjan_EST\";AG...                                              \n",
              "2  2;ADJAME;In Service;ABIDJAN;\"\"\"Abidjan_EST\";AG...                                              \n",
              "3  3;ASSINIE;In Service;INTERIEUR;Grand-EST;\"ASSI...                                              \n",
              "4  4;ASSINIE;In Service;INTERIEUR;Grand-EST;\"ASSI...                                              "
            ]
          },
          "metadata": {
            "tags": []
          },
          "execution_count": 15
        }
      ]
    },
    {
      "cell_type": "code",
      "metadata": {
        "id": "lvFsAvjRUGN4",
        "colab_type": "code",
        "colab": {
          "base_uri": "https://localhost:8080/",
          "height": 197
        },
        "outputId": "d4f74cbc-a0a5-4675-9d6b-4555552b5c6f"
      },
      "source": [
        "cells_geo = pd.read_csv('/content/cells_geo.csv', sep='[;]' , engine= 'python')\n",
        "cells_geo.rename(columns = {'SITE_CODE' : 'SITE_ID'}, inplace = True)\n",
        "cells_geo.head()"
      ],
      "execution_count": 31,
      "outputs": [
        {
          "output_type": "execute_result",
          "data": {
            "text/html": [
              "<div>\n",
              "<style scoped>\n",
              "    .dataframe tbody tr th:only-of-type {\n",
              "        vertical-align: middle;\n",
              "    }\n",
              "\n",
              "    .dataframe tbody tr th {\n",
              "        vertical-align: top;\n",
              "    }\n",
              "\n",
              "    .dataframe thead th {\n",
              "        text-align: right;\n",
              "    }\n",
              "</style>\n",
              "<table border=\"1\" class=\"dataframe\">\n",
              "  <thead>\n",
              "    <tr style=\"text-align: right;\">\n",
              "      <th></th>\n",
              "      <th>Unnamed: 0</th>\n",
              "      <th>VILLES</th>\n",
              "      <th>STATUS</th>\n",
              "      <th>LOCALISATION</th>\n",
              "      <th>DECOUPZONE</th>\n",
              "      <th>ZONENAME</th>\n",
              "      <th>LONGITUDE</th>\n",
              "      <th>LATITUDE</th>\n",
              "      <th>REGION</th>\n",
              "      <th>AREA</th>\n",
              "      <th>CELL_ID</th>\n",
              "      <th>SITE_ID</th>\n",
              "    </tr>\n",
              "  </thead>\n",
              "  <tbody>\n",
              "    <tr>\n",
              "      <th>0</th>\n",
              "      <td>0</td>\n",
              "      <td>ADJAME</td>\n",
              "      <td>In Service</td>\n",
              "      <td>ABIDJAN</td>\n",
              "      <td>\"\"\"Abidjan_EST\"</td>\n",
              "      <td>AGBANNEW</td>\n",
              "      <td>-4.000667</td>\n",
              "      <td>5.368194</td>\n",
              "      <td>LAGUNE</td>\n",
              "      <td>NaN</td>\n",
              "      <td>fbb2e75af3</td>\n",
              "      <td>0bb492ef17</td>\n",
              "    </tr>\n",
              "    <tr>\n",
              "      <th>1</th>\n",
              "      <td>1</td>\n",
              "      <td>ADJAME</td>\n",
              "      <td>In Service</td>\n",
              "      <td>ABIDJAN</td>\n",
              "      <td>\"\"\"Abidjan_EST\"</td>\n",
              "      <td>AGBANNEW</td>\n",
              "      <td>-4.000667</td>\n",
              "      <td>5.368194</td>\n",
              "      <td>LAGUNE</td>\n",
              "      <td>NaN</td>\n",
              "      <td>1502501d78</td>\n",
              "      <td>0bb492ef17</td>\n",
              "    </tr>\n",
              "    <tr>\n",
              "      <th>2</th>\n",
              "      <td>2</td>\n",
              "      <td>ADJAME</td>\n",
              "      <td>In Service</td>\n",
              "      <td>ABIDJAN</td>\n",
              "      <td>\"\"\"Abidjan_EST\"</td>\n",
              "      <td>AGBANNEW</td>\n",
              "      <td>-4.000667</td>\n",
              "      <td>5.368194</td>\n",
              "      <td>LAGUNE</td>\n",
              "      <td>NaN</td>\n",
              "      <td>0c2e182a0c</td>\n",
              "      <td>0bb492ef17</td>\n",
              "    </tr>\n",
              "    <tr>\n",
              "      <th>3</th>\n",
              "      <td>3</td>\n",
              "      <td>ASSINIE</td>\n",
              "      <td>In Service</td>\n",
              "      <td>INTERIEUR</td>\n",
              "      <td>Grand-EST</td>\n",
              "      <td>\"ASSINIE\"\"\"</td>\n",
              "      <td>-3.488467</td>\n",
              "      <td>5.158761</td>\n",
              "      <td>SUD COMOE</td>\n",
              "      <td>NaN</td>\n",
              "      <td>69bdfc69fd</td>\n",
              "      <td>8a1e6ce31f</td>\n",
              "    </tr>\n",
              "    <tr>\n",
              "      <th>4</th>\n",
              "      <td>4</td>\n",
              "      <td>ASSINIE</td>\n",
              "      <td>In Service</td>\n",
              "      <td>INTERIEUR</td>\n",
              "      <td>Grand-EST</td>\n",
              "      <td>\"ASSINIE\"\"\"</td>\n",
              "      <td>-3.488467</td>\n",
              "      <td>5.158761</td>\n",
              "      <td>SUD COMOE</td>\n",
              "      <td>NaN</td>\n",
              "      <td>7a1029d2ab</td>\n",
              "      <td>8a1e6ce31f</td>\n",
              "    </tr>\n",
              "  </tbody>\n",
              "</table>\n",
              "</div>"
            ],
            "text/plain": [
              "   Unnamed: 0   VILLES      STATUS  ... AREA     CELL_ID     SITE_ID\n",
              "0           0   ADJAME  In Service  ...  NaN  fbb2e75af3  0bb492ef17\n",
              "1           1   ADJAME  In Service  ...  NaN  1502501d78  0bb492ef17\n",
              "2           2   ADJAME  In Service  ...  NaN  0c2e182a0c  0bb492ef17\n",
              "3           3  ASSINIE  In Service  ...  NaN  69bdfc69fd  8a1e6ce31f\n",
              "4           4  ASSINIE  In Service  ...  NaN  7a1029d2ab  8a1e6ce31f\n",
              "\n",
              "[5 rows x 12 columns]"
            ]
          },
          "metadata": {
            "tags": []
          },
          "execution_count": 31
        }
      ]
    },
    {
      "cell_type": "code",
      "metadata": {
        "id": "Vj2k1ktEms0n",
        "colab_type": "code",
        "colab": {
          "base_uri": "https://localhost:8080/",
          "height": 197
        },
        "outputId": "4c478209-9671-4e45-da48-1938016a1f31"
      },
      "source": [
        "telcom_1 = pd.read_csv('/content/Telcom_dataset (1).csv')\n",
        "telcom_1.rename(columns= {'PRODUTC':'PRODUCT', 'DATETIME':'DATE_TIME', 'DW_A_NUMBER_INT':'DW_A_NUMBER', 'DW_B_NUMBER_INT':'DW_B_NUMBER'}, inplace=True)\n",
        "telcom_1.head()\n",
        "\n"
      ],
      "execution_count": 34,
      "outputs": [
        {
          "output_type": "execute_result",
          "data": {
            "text/html": [
              "<div>\n",
              "<style scoped>\n",
              "    .dataframe tbody tr th:only-of-type {\n",
              "        vertical-align: middle;\n",
              "    }\n",
              "\n",
              "    .dataframe tbody tr th {\n",
              "        vertical-align: top;\n",
              "    }\n",
              "\n",
              "    .dataframe thead th {\n",
              "        text-align: right;\n",
              "    }\n",
              "</style>\n",
              "<table border=\"1\" class=\"dataframe\">\n",
              "  <thead>\n",
              "    <tr style=\"text-align: right;\">\n",
              "      <th></th>\n",
              "      <th>PRODUCT</th>\n",
              "      <th>VALUE</th>\n",
              "      <th>DATE_TIME</th>\n",
              "      <th>CELL_ON_SITE</th>\n",
              "      <th>DW_A_NUMBER</th>\n",
              "      <th>DW_B_NUMBER</th>\n",
              "      <th>COUNTRY_A</th>\n",
              "      <th>COUNTRY_B</th>\n",
              "      <th>CELL_ID</th>\n",
              "      <th>SITE_ID</th>\n",
              "    </tr>\n",
              "  </thead>\n",
              "  <tbody>\n",
              "    <tr>\n",
              "      <th>0</th>\n",
              "      <td>Voice</td>\n",
              "      <td>0</td>\n",
              "      <td>2012-05-06 23:04:37.0</td>\n",
              "      <td>1</td>\n",
              "      <td>49fae048b547780</td>\n",
              "      <td>1a49f8b0ded9de6</td>\n",
              "      <td>19e2e</td>\n",
              "      <td>19e2e</td>\n",
              "      <td>/TJNe+Mmtu</td>\n",
              "      <td>/TJNe+Mmtu</td>\n",
              "    </tr>\n",
              "    <tr>\n",
              "      <th>1</th>\n",
              "      <td>sms</td>\n",
              "      <td>0</td>\n",
              "      <td>2012-05-06 23:05:25.0</td>\n",
              "      <td>0</td>\n",
              "      <td>7a54a6eaee19e65</td>\n",
              "      <td>93343ba6e41af95</td>\n",
              "      <td>19e2e</td>\n",
              "      <td>19e2e</td>\n",
              "      <td>/+cKZKIp41</td>\n",
              "      <td>/+cKZKIp41</td>\n",
              "    </tr>\n",
              "    <tr>\n",
              "      <th>2</th>\n",
              "      <td>sms</td>\n",
              "      <td>25</td>\n",
              "      <td>2012-05-06 23:05:41.0</td>\n",
              "      <td>0</td>\n",
              "      <td>6008887b0207d82</td>\n",
              "      <td>7aacc9709ce0a20</td>\n",
              "      <td>19e2e</td>\n",
              "      <td>19e2e</td>\n",
              "      <td>/u0FSD+ahi</td>\n",
              "      <td>/u0FSD+ahi</td>\n",
              "    </tr>\n",
              "    <tr>\n",
              "      <th>3</th>\n",
              "      <td>Voice</td>\n",
              "      <td>56</td>\n",
              "      <td>2012-05-06 23:05:42.0</td>\n",
              "      <td>1</td>\n",
              "      <td>7370032e20f4e96</td>\n",
              "      <td>6af4a60e74c91d3</td>\n",
              "      <td>19e2e</td>\n",
              "      <td>19e2e</td>\n",
              "      <td>+cNeJzsTp3</td>\n",
              "      <td>+cNeJzsTp3</td>\n",
              "    </tr>\n",
              "    <tr>\n",
              "      <th>4</th>\n",
              "      <td>Voice</td>\n",
              "      <td>14</td>\n",
              "      <td>2012-05-06 23:06:29.0</td>\n",
              "      <td>1</td>\n",
              "      <td>966ba4656e38e62</td>\n",
              "      <td>02aa736ee555d5c</td>\n",
              "      <td>19e2e</td>\n",
              "      <td>19e2e</td>\n",
              "      <td>051KhYDCpv</td>\n",
              "      <td>051KhYDCpv</td>\n",
              "    </tr>\n",
              "  </tbody>\n",
              "</table>\n",
              "</div>"
            ],
            "text/plain": [
              "  PRODUCT  VALUE              DATE_TIME  ... COUNTRY_B     CELL_ID     SITE_ID\n",
              "0   Voice      0  2012-05-06 23:04:37.0  ...     19e2e  /TJNe+Mmtu  /TJNe+Mmtu\n",
              "1     sms      0  2012-05-06 23:05:25.0  ...     19e2e  /+cKZKIp41  /+cKZKIp41\n",
              "2     sms     25  2012-05-06 23:05:41.0  ...     19e2e  /u0FSD+ahi  /u0FSD+ahi\n",
              "3   Voice     56  2012-05-06 23:05:42.0  ...     19e2e  +cNeJzsTp3  +cNeJzsTp3\n",
              "4   Voice     14  2012-05-06 23:06:29.0  ...     19e2e  051KhYDCpv  051KhYDCpv\n",
              "\n",
              "[5 rows x 10 columns]"
            ]
          },
          "metadata": {
            "tags": []
          },
          "execution_count": 34
        }
      ]
    },
    {
      "cell_type": "code",
      "metadata": {
        "id": "o02u_notuxEz",
        "colab_type": "code",
        "colab": {
          "base_uri": "https://localhost:8080/",
          "height": 287
        },
        "outputId": "3eb3ca60-c31f-4949-c4bd-bd0e3cf45a04"
      },
      "source": [
        "telcom_1.describe()"
      ],
      "execution_count": 35,
      "outputs": [
        {
          "output_type": "execute_result",
          "data": {
            "text/html": [
              "<div>\n",
              "<style scoped>\n",
              "    .dataframe tbody tr th:only-of-type {\n",
              "        vertical-align: middle;\n",
              "    }\n",
              "\n",
              "    .dataframe tbody tr th {\n",
              "        vertical-align: top;\n",
              "    }\n",
              "\n",
              "    .dataframe thead th {\n",
              "        text-align: right;\n",
              "    }\n",
              "</style>\n",
              "<table border=\"1\" class=\"dataframe\">\n",
              "  <thead>\n",
              "    <tr style=\"text-align: right;\">\n",
              "      <th></th>\n",
              "      <th>VALUE</th>\n",
              "    </tr>\n",
              "  </thead>\n",
              "  <tbody>\n",
              "    <tr>\n",
              "      <th>count</th>\n",
              "      <td>5001.000000</td>\n",
              "    </tr>\n",
              "    <tr>\n",
              "      <th>mean</th>\n",
              "      <td>25.869626</td>\n",
              "    </tr>\n",
              "    <tr>\n",
              "      <th>std</th>\n",
              "      <td>101.934502</td>\n",
              "    </tr>\n",
              "    <tr>\n",
              "      <th>min</th>\n",
              "      <td>0.000000</td>\n",
              "    </tr>\n",
              "    <tr>\n",
              "      <th>25%</th>\n",
              "      <td>0.000000</td>\n",
              "    </tr>\n",
              "    <tr>\n",
              "      <th>50%</th>\n",
              "      <td>0.000000</td>\n",
              "    </tr>\n",
              "    <tr>\n",
              "      <th>75%</th>\n",
              "      <td>25.000000</td>\n",
              "    </tr>\n",
              "    <tr>\n",
              "      <th>max</th>\n",
              "      <td>4440.000000</td>\n",
              "    </tr>\n",
              "  </tbody>\n",
              "</table>\n",
              "</div>"
            ],
            "text/plain": [
              "             VALUE\n",
              "count  5001.000000\n",
              "mean     25.869626\n",
              "std     101.934502\n",
              "min       0.000000\n",
              "25%       0.000000\n",
              "50%       0.000000\n",
              "75%      25.000000\n",
              "max    4440.000000"
            ]
          },
          "metadata": {
            "tags": []
          },
          "execution_count": 35
        }
      ]
    },
    {
      "cell_type": "code",
      "metadata": {
        "id": "Rkbcoudonmpy",
        "colab_type": "code",
        "colab": {
          "base_uri": "https://localhost:8080/",
          "height": 406
        },
        "outputId": "62f0c9b5-dcce-4025-e6fa-7397d2d5f791"
      },
      "source": [
        "telcom_2 = pd.read_csv('/content/Telcom_dataset2 (1).csv')\n",
        "telcom_2"
      ],
      "execution_count": 26,
      "outputs": [
        {
          "output_type": "execute_result",
          "data": {
            "text/html": [
              "<div>\n",
              "<style scoped>\n",
              "    .dataframe tbody tr th:only-of-type {\n",
              "        vertical-align: middle;\n",
              "    }\n",
              "\n",
              "    .dataframe tbody tr th {\n",
              "        vertical-align: top;\n",
              "    }\n",
              "\n",
              "    .dataframe thead th {\n",
              "        text-align: right;\n",
              "    }\n",
              "</style>\n",
              "<table border=\"1\" class=\"dataframe\">\n",
              "  <thead>\n",
              "    <tr style=\"text-align: right;\">\n",
              "      <th></th>\n",
              "      <th>PRODUCT</th>\n",
              "      <th>VALUE</th>\n",
              "      <th>DATE_TIME</th>\n",
              "      <th>CELL_ON_SITE</th>\n",
              "      <th>DW_A_NUMBER</th>\n",
              "      <th>DW_B_NUMBER</th>\n",
              "      <th>COUNTRY_A</th>\n",
              "      <th>COUNTRY_B</th>\n",
              "      <th>CELL_ID</th>\n",
              "      <th>SITE_ID</th>\n",
              "    </tr>\n",
              "  </thead>\n",
              "  <tbody>\n",
              "    <tr>\n",
              "      <th>0</th>\n",
              "      <td>sms</td>\n",
              "      <td>0</td>\n",
              "      <td>2012-05-07 23:02:06.0</td>\n",
              "      <td>2</td>\n",
              "      <td>32255675c3b6fe3</td>\n",
              "      <td>1aa7ae01386e9fb</td>\n",
              "      <td>19e2e</td>\n",
              "      <td>19e2e</td>\n",
              "      <td>+854AcBQT2</td>\n",
              "      <td>+854AcBQT2</td>\n",
              "    </tr>\n",
              "    <tr>\n",
              "      <th>1</th>\n",
              "      <td>Voice</td>\n",
              "      <td>0</td>\n",
              "      <td>2012-05-07 23:03:44.0</td>\n",
              "      <td>1</td>\n",
              "      <td>ff16d6ac74c1c64</td>\n",
              "      <td>87d87309c15a8c9</td>\n",
              "      <td>19e2e</td>\n",
              "      <td>19e2e</td>\n",
              "      <td>+854AcBQT2</td>\n",
              "      <td>+854AcBQT2</td>\n",
              "    </tr>\n",
              "    <tr>\n",
              "      <th>2</th>\n",
              "      <td>sms</td>\n",
              "      <td>0</td>\n",
              "      <td>2012-05-07 23:04:06.0</td>\n",
              "      <td>0</td>\n",
              "      <td>98d9f2fb5ff624b</td>\n",
              "      <td>93343ba6e41af95</td>\n",
              "      <td>19e2e</td>\n",
              "      <td>19e2e</td>\n",
              "      <td>+laSrk7g6q</td>\n",
              "      <td>+laSrk7g6q</td>\n",
              "    </tr>\n",
              "    <tr>\n",
              "      <th>3</th>\n",
              "      <td>Voice</td>\n",
              "      <td>37</td>\n",
              "      <td>2012-05-07 23:04:48.0</td>\n",
              "      <td>1</td>\n",
              "      <td>3f9c8a33ec7be1f</td>\n",
              "      <td>7d05a38f89c49d8</td>\n",
              "      <td>19e2e</td>\n",
              "      <td>19e2e</td>\n",
              "      <td>/xvRrCVKoQ</td>\n",
              "      <td>/xvRrCVKoQ</td>\n",
              "    </tr>\n",
              "    <tr>\n",
              "      <th>4</th>\n",
              "      <td>sms</td>\n",
              "      <td>25</td>\n",
              "      <td>2012-05-07 23:04:58.0</td>\n",
              "      <td>1</td>\n",
              "      <td>7bcccc03adf3864</td>\n",
              "      <td>56a5d5430d2fa86</td>\n",
              "      <td>19e2e</td>\n",
              "      <td>19e2e</td>\n",
              "      <td>+bO+qkSonO</td>\n",
              "      <td>+bO+qkSonO</td>\n",
              "    </tr>\n",
              "    <tr>\n",
              "      <th>...</th>\n",
              "      <td>...</td>\n",
              "      <td>...</td>\n",
              "      <td>...</td>\n",
              "      <td>...</td>\n",
              "      <td>...</td>\n",
              "      <td>...</td>\n",
              "      <td>...</td>\n",
              "      <td>...</td>\n",
              "      <td>...</td>\n",
              "      <td>...</td>\n",
              "    </tr>\n",
              "    <tr>\n",
              "      <th>4996</th>\n",
              "      <td>sms</td>\n",
              "      <td>0</td>\n",
              "      <td>2012-05-08 00:01:53.0</td>\n",
              "      <td>8</td>\n",
              "      <td>22ffbbb8ac8cde1</td>\n",
              "      <td>8db839a0c08bd54</td>\n",
              "      <td>19e2e</td>\n",
              "      <td>19e2e</td>\n",
              "      <td>896459aace</td>\n",
              "      <td>b7d00e59e4</td>\n",
              "    </tr>\n",
              "    <tr>\n",
              "      <th>4997</th>\n",
              "      <td>sms</td>\n",
              "      <td>25</td>\n",
              "      <td>2012-05-08 00:01:53.0</td>\n",
              "      <td>0</td>\n",
              "      <td>bcf512a3542d42c</td>\n",
              "      <td>5a2848d6f983c31</td>\n",
              "      <td>19e2e</td>\n",
              "      <td>19e2e</td>\n",
              "      <td>7e90b35166</td>\n",
              "      <td>211015b14d</td>\n",
              "    </tr>\n",
              "    <tr>\n",
              "      <th>4998</th>\n",
              "      <td>sms</td>\n",
              "      <td>0</td>\n",
              "      <td>2012-05-08 00:01:53.0</td>\n",
              "      <td>0</td>\n",
              "      <td>05e3c3d41628a9f</td>\n",
              "      <td>7185a95077eae9e</td>\n",
              "      <td>19e2e</td>\n",
              "      <td>19e2e</td>\n",
              "      <td>fe70e431df</td>\n",
              "      <td>c7ea989264</td>\n",
              "    </tr>\n",
              "    <tr>\n",
              "      <th>4999</th>\n",
              "      <td>data</td>\n",
              "      <td>0</td>\n",
              "      <td>2012-05-08 00:01:53.0</td>\n",
              "      <td>_</td>\n",
              "      <td>86a4dbf018f6f24</td>\n",
              "      <td>5a4dc9e82deb309</td>\n",
              "      <td>19e2e</td>\n",
              "      <td>OTHER</td>\n",
              "      <td>ffa6759bb2</td>\n",
              "      <td>NaN</td>\n",
              "    </tr>\n",
              "    <tr>\n",
              "      <th>5000</th>\n",
              "      <td>Voice</td>\n",
              "      <td>0</td>\n",
              "      <td>2012-05-08 00:01:53.0</td>\n",
              "      <td>0</td>\n",
              "      <td>a03c9837c62a5b9</td>\n",
              "      <td>de590e98879fa37</td>\n",
              "      <td>19e2e</td>\n",
              "      <td>19e2e</td>\n",
              "      <td>8630058aca</td>\n",
              "      <td>b47a998a3e</td>\n",
              "    </tr>\n",
              "  </tbody>\n",
              "</table>\n",
              "<p>5001 rows × 10 columns</p>\n",
              "</div>"
            ],
            "text/plain": [
              "     PRODUCT  VALUE              DATE_TIME  ... COUNTRY_B     CELL_ID     SITE_ID\n",
              "0        sms      0  2012-05-07 23:02:06.0  ...     19e2e  +854AcBQT2  +854AcBQT2\n",
              "1      Voice      0  2012-05-07 23:03:44.0  ...     19e2e  +854AcBQT2  +854AcBQT2\n",
              "2        sms      0  2012-05-07 23:04:06.0  ...     19e2e  +laSrk7g6q  +laSrk7g6q\n",
              "3      Voice     37  2012-05-07 23:04:48.0  ...     19e2e  /xvRrCVKoQ  /xvRrCVKoQ\n",
              "4        sms     25  2012-05-07 23:04:58.0  ...     19e2e  +bO+qkSonO  +bO+qkSonO\n",
              "...      ...    ...                    ...  ...       ...         ...         ...\n",
              "4996     sms      0  2012-05-08 00:01:53.0  ...     19e2e  896459aace  b7d00e59e4\n",
              "4997     sms     25  2012-05-08 00:01:53.0  ...     19e2e  7e90b35166  211015b14d\n",
              "4998     sms      0  2012-05-08 00:01:53.0  ...     19e2e  fe70e431df  c7ea989264\n",
              "4999    data      0  2012-05-08 00:01:53.0  ...     OTHER  ffa6759bb2         NaN\n",
              "5000   Voice      0  2012-05-08 00:01:53.0  ...     19e2e  8630058aca  b47a998a3e\n",
              "\n",
              "[5001 rows x 10 columns]"
            ]
          },
          "metadata": {
            "tags": []
          },
          "execution_count": 26
        }
      ]
    },
    {
      "cell_type": "code",
      "metadata": {
        "id": "pyD8X6wdu8Bi",
        "colab_type": "code",
        "colab": {
          "base_uri": "https://localhost:8080/",
          "height": 287
        },
        "outputId": "9369d087-e66a-43b4-c3d3-62e45d6a9636"
      },
      "source": [
        "telcom_2.describe()"
      ],
      "execution_count": 19,
      "outputs": [
        {
          "output_type": "execute_result",
          "data": {
            "text/html": [
              "<div>\n",
              "<style scoped>\n",
              "    .dataframe tbody tr th:only-of-type {\n",
              "        vertical-align: middle;\n",
              "    }\n",
              "\n",
              "    .dataframe tbody tr th {\n",
              "        vertical-align: top;\n",
              "    }\n",
              "\n",
              "    .dataframe thead th {\n",
              "        text-align: right;\n",
              "    }\n",
              "</style>\n",
              "<table border=\"1\" class=\"dataframe\">\n",
              "  <thead>\n",
              "    <tr style=\"text-align: right;\">\n",
              "      <th></th>\n",
              "      <th>VALUE</th>\n",
              "    </tr>\n",
              "  </thead>\n",
              "  <tbody>\n",
              "    <tr>\n",
              "      <th>count</th>\n",
              "      <td>5001.000000</td>\n",
              "    </tr>\n",
              "    <tr>\n",
              "      <th>mean</th>\n",
              "      <td>24.334933</td>\n",
              "    </tr>\n",
              "    <tr>\n",
              "      <th>std</th>\n",
              "      <td>97.471586</td>\n",
              "    </tr>\n",
              "    <tr>\n",
              "      <th>min</th>\n",
              "      <td>0.000000</td>\n",
              "    </tr>\n",
              "    <tr>\n",
              "      <th>25%</th>\n",
              "      <td>0.000000</td>\n",
              "    </tr>\n",
              "    <tr>\n",
              "      <th>50%</th>\n",
              "      <td>0.000000</td>\n",
              "    </tr>\n",
              "    <tr>\n",
              "      <th>75%</th>\n",
              "      <td>25.000000</td>\n",
              "    </tr>\n",
              "    <tr>\n",
              "      <th>max</th>\n",
              "      <td>3380.000000</td>\n",
              "    </tr>\n",
              "  </tbody>\n",
              "</table>\n",
              "</div>"
            ],
            "text/plain": [
              "             VALUE\n",
              "count  5001.000000\n",
              "mean     24.334933\n",
              "std      97.471586\n",
              "min       0.000000\n",
              "25%       0.000000\n",
              "50%       0.000000\n",
              "75%      25.000000\n",
              "max    3380.000000"
            ]
          },
          "metadata": {
            "tags": []
          },
          "execution_count": 19
        }
      ]
    },
    {
      "cell_type": "code",
      "metadata": {
        "id": "CpH6XJBBn1Iv",
        "colab_type": "code",
        "colab": {
          "base_uri": "https://localhost:8080/",
          "height": 197
        },
        "outputId": "e512911d-939c-4f02-a7fb-58b8cc64ed5e"
      },
      "source": [
        "telcom_3 = pd.read_csv('/content/Telcom_dataset3 (1).csv')\n",
        "telcom_3.rename(columns= {'DW_A_NUMBER_INT':'DW_A_NUMBER', 'DW_B_NUMBER_INT':'DW_B_NUMBER','CELLID':'CELL_ID','SIET_ID':'SITE_ID'}, inplace=True)\n",
        "telcom_3.head()\n"
      ],
      "execution_count": 36,
      "outputs": [
        {
          "output_type": "execute_result",
          "data": {
            "text/html": [
              "<div>\n",
              "<style scoped>\n",
              "    .dataframe tbody tr th:only-of-type {\n",
              "        vertical-align: middle;\n",
              "    }\n",
              "\n",
              "    .dataframe tbody tr th {\n",
              "        vertical-align: top;\n",
              "    }\n",
              "\n",
              "    .dataframe thead th {\n",
              "        text-align: right;\n",
              "    }\n",
              "</style>\n",
              "<table border=\"1\" class=\"dataframe\">\n",
              "  <thead>\n",
              "    <tr style=\"text-align: right;\">\n",
              "      <th></th>\n",
              "      <th>PRODUCT</th>\n",
              "      <th>VALUE</th>\n",
              "      <th>DATE_TIME</th>\n",
              "      <th>CELL_ON_SITE</th>\n",
              "      <th>DW_A_NUMBER</th>\n",
              "      <th>DW_B_NUMBER</th>\n",
              "      <th>COUNTRY_A</th>\n",
              "      <th>COUNTRY_B</th>\n",
              "      <th>CELL_ID</th>\n",
              "      <th>SITE_ID</th>\n",
              "    </tr>\n",
              "  </thead>\n",
              "  <tbody>\n",
              "    <tr>\n",
              "      <th>0</th>\n",
              "      <td>Voice</td>\n",
              "      <td>61</td>\n",
              "      <td>2012-05-08 23:01:28.0</td>\n",
              "      <td>2</td>\n",
              "      <td>966f68353622feb</td>\n",
              "      <td>ffd53a3bb2db6f1</td>\n",
              "      <td>19e2e</td>\n",
              "      <td>19e2e</td>\n",
              "      <td>+38u2u/rfx</td>\n",
              "      <td>+38u2u/rfx</td>\n",
              "    </tr>\n",
              "    <tr>\n",
              "      <th>1</th>\n",
              "      <td>sms</td>\n",
              "      <td>0</td>\n",
              "      <td>2012-05-08 23:01:31.0</td>\n",
              "      <td>1</td>\n",
              "      <td>a0a597384c612d7</td>\n",
              "      <td>cf3b218f1dde792</td>\n",
              "      <td>19e2e</td>\n",
              "      <td>19e2e</td>\n",
              "      <td>+Fs4mTvdKx</td>\n",
              "      <td>+Fs4mTvdKx</td>\n",
              "    </tr>\n",
              "    <tr>\n",
              "      <th>2</th>\n",
              "      <td>Voice</td>\n",
              "      <td>10</td>\n",
              "      <td>2012-05-08 23:02:59.0</td>\n",
              "      <td>1</td>\n",
              "      <td>5441a9a58c97132</td>\n",
              "      <td>52f8b299515b9b7</td>\n",
              "      <td>19e2e</td>\n",
              "      <td>19e2e</td>\n",
              "      <td>+ZaaZozy/+</td>\n",
              "      <td>+ZaaZozy/+</td>\n",
              "    </tr>\n",
              "    <tr>\n",
              "      <th>3</th>\n",
              "      <td>sms</td>\n",
              "      <td>0</td>\n",
              "      <td>2012-05-08 23:03:04.0</td>\n",
              "      <td>0</td>\n",
              "      <td>8ab8b9ed6989f61</td>\n",
              "      <td>e09e736e46c5c3d</td>\n",
              "      <td>19e2e</td>\n",
              "      <td>19e2e</td>\n",
              "      <td>+cNeJzsTp3</td>\n",
              "      <td>+cNeJzsTp3</td>\n",
              "    </tr>\n",
              "    <tr>\n",
              "      <th>4</th>\n",
              "      <td>Voice</td>\n",
              "      <td>22</td>\n",
              "      <td>2012-05-08 23:03:16.0</td>\n",
              "      <td>4</td>\n",
              "      <td>52662a62b199334</td>\n",
              "      <td>2186273faab4602</td>\n",
              "      <td>19e2e</td>\n",
              "      <td>19e2e</td>\n",
              "      <td>/eeMklgyJA</td>\n",
              "      <td>/eeMklgyJA</td>\n",
              "    </tr>\n",
              "  </tbody>\n",
              "</table>\n",
              "</div>"
            ],
            "text/plain": [
              "  PRODUCT  VALUE              DATE_TIME  ... COUNTRY_B     CELL_ID     SITE_ID\n",
              "0   Voice     61  2012-05-08 23:01:28.0  ...     19e2e  +38u2u/rfx  +38u2u/rfx\n",
              "1     sms      0  2012-05-08 23:01:31.0  ...     19e2e  +Fs4mTvdKx  +Fs4mTvdKx\n",
              "2   Voice     10  2012-05-08 23:02:59.0  ...     19e2e  +ZaaZozy/+  +ZaaZozy/+\n",
              "3     sms      0  2012-05-08 23:03:04.0  ...     19e2e  +cNeJzsTp3  +cNeJzsTp3\n",
              "4   Voice     22  2012-05-08 23:03:16.0  ...     19e2e  /eeMklgyJA  /eeMklgyJA\n",
              "\n",
              "[5 rows x 10 columns]"
            ]
          },
          "metadata": {
            "tags": []
          },
          "execution_count": 36
        }
      ]
    },
    {
      "cell_type": "code",
      "metadata": {
        "id": "ZVfahBT7vEUP",
        "colab_type": "code",
        "colab": {
          "base_uri": "https://localhost:8080/",
          "height": 287
        },
        "outputId": "6901340e-6641-414d-bc43-e38d47a0ff54"
      },
      "source": [
        "telcom_3.describe()"
      ],
      "execution_count": 20,
      "outputs": [
        {
          "output_type": "execute_result",
          "data": {
            "text/html": [
              "<div>\n",
              "<style scoped>\n",
              "    .dataframe tbody tr th:only-of-type {\n",
              "        vertical-align: middle;\n",
              "    }\n",
              "\n",
              "    .dataframe tbody tr th {\n",
              "        vertical-align: top;\n",
              "    }\n",
              "\n",
              "    .dataframe thead th {\n",
              "        text-align: right;\n",
              "    }\n",
              "</style>\n",
              "<table border=\"1\" class=\"dataframe\">\n",
              "  <thead>\n",
              "    <tr style=\"text-align: right;\">\n",
              "      <th></th>\n",
              "      <th>VALUE</th>\n",
              "    </tr>\n",
              "  </thead>\n",
              "  <tbody>\n",
              "    <tr>\n",
              "      <th>count</th>\n",
              "      <td>5001.000000</td>\n",
              "    </tr>\n",
              "    <tr>\n",
              "      <th>mean</th>\n",
              "      <td>26.441512</td>\n",
              "    </tr>\n",
              "    <tr>\n",
              "      <th>std</th>\n",
              "      <td>224.200217</td>\n",
              "    </tr>\n",
              "    <tr>\n",
              "      <th>min</th>\n",
              "      <td>0.000000</td>\n",
              "    </tr>\n",
              "    <tr>\n",
              "      <th>25%</th>\n",
              "      <td>0.000000</td>\n",
              "    </tr>\n",
              "    <tr>\n",
              "      <th>50%</th>\n",
              "      <td>0.000000</td>\n",
              "    </tr>\n",
              "    <tr>\n",
              "      <th>75%</th>\n",
              "      <td>25.000000</td>\n",
              "    </tr>\n",
              "    <tr>\n",
              "      <th>max</th>\n",
              "      <td>12900.000000</td>\n",
              "    </tr>\n",
              "  </tbody>\n",
              "</table>\n",
              "</div>"
            ],
            "text/plain": [
              "              VALUE\n",
              "count   5001.000000\n",
              "mean      26.441512\n",
              "std      224.200217\n",
              "min        0.000000\n",
              "25%        0.000000\n",
              "50%        0.000000\n",
              "75%       25.000000\n",
              "max    12900.000000"
            ]
          },
          "metadata": {
            "tags": []
          },
          "execution_count": 20
        }
      ]
    },
    {
      "cell_type": "code",
      "metadata": {
        "id": "3x-HkypaQ-J1",
        "colab_type": "code",
        "outputId": "4c84a6f6-f032-43b7-d936-4f93b0f0e070",
        "colab": {
          "base_uri": "https://localhost:8080/",
          "height": 34
        }
      },
      "source": [
        "!pwd"
      ],
      "execution_count": 0,
      "outputs": [
        {
          "output_type": "stream",
          "text": [
            "/content\n"
          ],
          "name": "stdout"
        }
      ]
    },
    {
      "cell_type": "code",
      "metadata": {
        "id": "qyqfXRVNRAlb",
        "colab_type": "code",
        "outputId": "ad326d5d-cadc-4226-8ab5-7bcb443b6797",
        "colab": {
          "base_uri": "https://localhost:8080/",
          "height": 51
        }
      },
      "source": [
        "!git clone https://github.com/Machocho254/Week-3-IP.git"
      ],
      "execution_count": 0,
      "outputs": [
        {
          "output_type": "stream",
          "text": [
            "Cloning into 'Week-3-IP'...\n",
            "warning: You appear to have cloned an empty repository.\n"
          ],
          "name": "stdout"
        }
      ]
    },
    {
      "cell_type": "code",
      "metadata": {
        "id": "ygSLpGG5RGYS",
        "colab_type": "code",
        "outputId": "afb0a926-7077-4952-b393-1038d0314085",
        "colab": {
          "base_uri": "https://localhost:8080/",
          "height": 34
        }
      },
      "source": [
        "!git clone https://github.com/Machocho254/Week-3-IP.git"
      ],
      "execution_count": 0,
      "outputs": [
        {
          "output_type": "stream",
          "text": [
            "fatal: destination path 'Week-3-IP' already exists and is not an empty directory.\n"
          ],
          "name": "stdout"
        }
      ]
    },
    {
      "cell_type": "code",
      "metadata": {
        "id": "hyXhcPpCRZjB",
        "colab_type": "code",
        "colab": {
          "base_uri": "https://localhost:8080/",
          "height": 34
        },
        "outputId": "194b8a95-bb33-451a-8843-a0e471a2f6f7"
      },
      "source": [
        "# Average use of voice bundle in the first dataframe\n",
        "telcom_1[telcom_1['PRODUCT'] == 'Voice'].VALUE.mean()"
      ],
      "execution_count": 37,
      "outputs": [
        {
          "output_type": "execute_result",
          "data": {
            "text/plain": [
              "49.06219017575484"
            ]
          },
          "metadata": {
            "tags": []
          },
          "execution_count": 37
        }
      ]
    },
    {
      "cell_type": "code",
      "metadata": {
        "id": "erjo5if9zWUB",
        "colab_type": "code",
        "colab": {
          "base_uri": "https://localhost:8080/",
          "height": 34
        },
        "outputId": "aca470b3-b3fe-4efe-8e5c-f488846edfb8"
      },
      "source": [
        "telcom_2[telcom_2['PRODUCT'] == 'Voice'].VALUE.mean()"
      ],
      "execution_count": 27,
      "outputs": [
        {
          "output_type": "execute_result",
          "data": {
            "text/plain": [
              "54.29485834207765"
            ]
          },
          "metadata": {
            "tags": []
          },
          "execution_count": 27
        }
      ]
    },
    {
      "cell_type": "code",
      "metadata": {
        "id": "JDtdEoiI0omI",
        "colab_type": "code",
        "colab": {
          "base_uri": "https://localhost:8080/",
          "height": 34
        },
        "outputId": "b2a4d93c-c026-4f70-f488-3640eb3af7d8"
      },
      "source": [
        "telcom_3[telcom_3['PRODUCT'] == 'Voice'].VALUE.mean()"
      ],
      "execution_count": 28,
      "outputs": [
        {
          "output_type": "execute_result",
          "data": {
            "text/plain": [
              "65.04737183646982"
            ]
          },
          "metadata": {
            "tags": []
          },
          "execution_count": 28
        }
      ]
    },
    {
      "cell_type": "code",
      "metadata": {
        "id": "KcT09zb9Coub",
        "colab_type": "code",
        "colab": {}
      },
      "source": [
        "# OUt of all the three datasets, the"
      ],
      "execution_count": 0,
      "outputs": []
    },
    {
      "cell_type": "code",
      "metadata": {
        "id": "e1or0J3B00Tf",
        "colab_type": "code",
        "colab": {
          "base_uri": "https://localhost:8080/",
          "height": 34
        },
        "outputId": "4dba0ce6-5226-4911-b583-95703186ad78"
      },
      "source": [
        "# Average use of the sms bundle in the first dataframe\n",
        "telcom_1[telcom_1['PRODUCT'] == 'sms'].VALUE.mean()"
      ],
      "execution_count": 38,
      "outputs": [
        {
          "output_type": "execute_result",
          "data": {
            "text/plain": [
              "6.821772151898734"
            ]
          },
          "metadata": {
            "tags": []
          },
          "execution_count": 38
        }
      ]
    },
    {
      "cell_type": "code",
      "metadata": {
        "id": "iKm4CfsI1SCw",
        "colab_type": "code",
        "colab": {
          "base_uri": "https://localhost:8080/",
          "height": 34
        },
        "outputId": "c85e1cc1-506a-4ba6-f3b5-dda0c8014a38"
      },
      "source": [
        "telcom_2[telcom_2['PRODUCT'] == 'sms'].VALUE.mean()"
      ],
      "execution_count": 30,
      "outputs": [
        {
          "output_type": "execute_result",
          "data": {
            "text/plain": [
              "5.458565908115071"
            ]
          },
          "metadata": {
            "tags": []
          },
          "execution_count": 30
        }
      ]
    },
    {
      "cell_type": "code",
      "metadata": {
        "id": "ITIcMB6-1hiU",
        "colab_type": "code",
        "colab": {
          "base_uri": "https://localhost:8080/",
          "height": 34
        },
        "outputId": "e91b7709-9c89-4cd8-99b9-d60e21fdbefe"
      },
      "source": [
        "telcom_3[telcom_3['PRODUCT'] == 'sms'].VALUE.mean()"
      ],
      "execution_count": 31,
      "outputs": [
        {
          "output_type": "execute_result",
          "data": {
            "text/plain": [
              "9.84495843874232"
            ]
          },
          "metadata": {
            "tags": []
          },
          "execution_count": 31
        }
      ]
    },
    {
      "cell_type": "code",
      "metadata": {
        "id": "jRvHHAXS1pBa",
        "colab_type": "code",
        "colab": {
          "base_uri": "https://localhost:8080/",
          "height": 406
        },
        "outputId": "832a8496-82bb-4348-c570-3bb2042189c1"
      },
      "source": [
        "# To filter the data to use, we shall select the Product, VALUES, DATETIME and CELL ID columns\n",
        "\n",
        "df1 = telcom_1[[\"PRODUTC\",\"VALUE\",\"DATETIME\", \"CELL_ID\"]]\n",
        "df1"
      ],
      "execution_count": 59,
      "outputs": [
        {
          "output_type": "execute_result",
          "data": {
            "text/html": [
              "<div>\n",
              "<style scoped>\n",
              "    .dataframe tbody tr th:only-of-type {\n",
              "        vertical-align: middle;\n",
              "    }\n",
              "\n",
              "    .dataframe tbody tr th {\n",
              "        vertical-align: top;\n",
              "    }\n",
              "\n",
              "    .dataframe thead th {\n",
              "        text-align: right;\n",
              "    }\n",
              "</style>\n",
              "<table border=\"1\" class=\"dataframe\">\n",
              "  <thead>\n",
              "    <tr style=\"text-align: right;\">\n",
              "      <th></th>\n",
              "      <th>PRODUTC</th>\n",
              "      <th>VALUE</th>\n",
              "      <th>DATETIME</th>\n",
              "      <th>CELL_ID</th>\n",
              "    </tr>\n",
              "  </thead>\n",
              "  <tbody>\n",
              "    <tr>\n",
              "      <th>0</th>\n",
              "      <td>Voice</td>\n",
              "      <td>0</td>\n",
              "      <td>2012-05-06 23:04:37.0</td>\n",
              "      <td>/TJNe+Mmtu</td>\n",
              "    </tr>\n",
              "    <tr>\n",
              "      <th>1</th>\n",
              "      <td>sms</td>\n",
              "      <td>0</td>\n",
              "      <td>2012-05-06 23:05:25.0</td>\n",
              "      <td>/+cKZKIp41</td>\n",
              "    </tr>\n",
              "    <tr>\n",
              "      <th>2</th>\n",
              "      <td>sms</td>\n",
              "      <td>25</td>\n",
              "      <td>2012-05-06 23:05:41.0</td>\n",
              "      <td>/u0FSD+ahi</td>\n",
              "    </tr>\n",
              "    <tr>\n",
              "      <th>3</th>\n",
              "      <td>Voice</td>\n",
              "      <td>56</td>\n",
              "      <td>2012-05-06 23:05:42.0</td>\n",
              "      <td>+cNeJzsTp3</td>\n",
              "    </tr>\n",
              "    <tr>\n",
              "      <th>4</th>\n",
              "      <td>Voice</td>\n",
              "      <td>14</td>\n",
              "      <td>2012-05-06 23:06:29.0</td>\n",
              "      <td>051KhYDCpv</td>\n",
              "    </tr>\n",
              "    <tr>\n",
              "      <th>...</th>\n",
              "      <td>...</td>\n",
              "      <td>...</td>\n",
              "      <td>...</td>\n",
              "      <td>...</td>\n",
              "    </tr>\n",
              "    <tr>\n",
              "      <th>4996</th>\n",
              "      <td>sms</td>\n",
              "      <td>100</td>\n",
              "      <td>2012-05-07 00:01:54.0</td>\n",
              "      <td>0c2371d9bc</td>\n",
              "    </tr>\n",
              "    <tr>\n",
              "      <th>4997</th>\n",
              "      <td>Voice</td>\n",
              "      <td>1</td>\n",
              "      <td>2012-05-07 00:01:54.0</td>\n",
              "      <td>5fb791cf56</td>\n",
              "    </tr>\n",
              "    <tr>\n",
              "      <th>4998</th>\n",
              "      <td>Voice</td>\n",
              "      <td>0</td>\n",
              "      <td>2012-05-07 00:01:54.0</td>\n",
              "      <td>7773627c12</td>\n",
              "    </tr>\n",
              "    <tr>\n",
              "      <th>4999</th>\n",
              "      <td>Voice</td>\n",
              "      <td>0</td>\n",
              "      <td>2012-05-07 00:01:54.0</td>\n",
              "      <td>3f4af49d6c</td>\n",
              "    </tr>\n",
              "    <tr>\n",
              "      <th>5000</th>\n",
              "      <td>Voice</td>\n",
              "      <td>7</td>\n",
              "      <td>2012-05-07 00:01:54.0</td>\n",
              "      <td>6f4d9b77a5</td>\n",
              "    </tr>\n",
              "  </tbody>\n",
              "</table>\n",
              "<p>5001 rows × 4 columns</p>\n",
              "</div>"
            ],
            "text/plain": [
              "     PRODUTC  VALUE               DATETIME     CELL_ID\n",
              "0      Voice      0  2012-05-06 23:04:37.0  /TJNe+Mmtu\n",
              "1        sms      0  2012-05-06 23:05:25.0  /+cKZKIp41\n",
              "2        sms     25  2012-05-06 23:05:41.0  /u0FSD+ahi\n",
              "3      Voice     56  2012-05-06 23:05:42.0  +cNeJzsTp3\n",
              "4      Voice     14  2012-05-06 23:06:29.0  051KhYDCpv\n",
              "...      ...    ...                    ...         ...\n",
              "4996     sms    100  2012-05-07 00:01:54.0  0c2371d9bc\n",
              "4997   Voice      1  2012-05-07 00:01:54.0  5fb791cf56\n",
              "4998   Voice      0  2012-05-07 00:01:54.0  7773627c12\n",
              "4999   Voice      0  2012-05-07 00:01:54.0  3f4af49d6c\n",
              "5000   Voice      7  2012-05-07 00:01:54.0  6f4d9b77a5\n",
              "\n",
              "[5001 rows x 4 columns]"
            ]
          },
          "metadata": {
            "tags": []
          },
          "execution_count": 59
        }
      ]
    },
    {
      "cell_type": "code",
      "metadata": {
        "id": "WxK6KeNa-43J",
        "colab_type": "code",
        "colab": {
          "base_uri": "https://localhost:8080/",
          "height": 105
        },
        "outputId": "89fb4d89-7686-45eb-fb4e-962b172c7648"
      },
      "source": [
        "df1[df1['PRODUTC'] == \"sms\"].count()"
      ],
      "execution_count": 41,
      "outputs": [
        {
          "output_type": "execute_result",
          "data": {
            "text/plain": [
              "PRODUTC     1975\n",
              "VALUE       1975\n",
              "DATETIME    1975\n",
              "CELL_ID     1975\n",
              "dtype: int64"
            ]
          },
          "metadata": {
            "tags": []
          },
          "execution_count": 41
        }
      ]
    },
    {
      "cell_type": "code",
      "metadata": {
        "id": "iVtDzY5b_la6",
        "colab_type": "code",
        "colab": {
          "base_uri": "https://localhost:8080/",
          "height": 105
        },
        "outputId": "a64daeeb-08f8-485a-b538-1602fc7a918c"
      },
      "source": [
        "df1[df1['PRODUTC'] == 'Voice'].count()"
      ],
      "execution_count": 42,
      "outputs": [
        {
          "output_type": "execute_result",
          "data": {
            "text/plain": [
              "PRODUTC     2219\n",
              "VALUE       2219\n",
              "DATETIME    2219\n",
              "CELL_ID     2219\n",
              "dtype: int64"
            ]
          },
          "metadata": {
            "tags": []
          },
          "execution_count": 42
        }
      ]
    },
    {
      "cell_type": "code",
      "metadata": {
        "id": "I6R6-jgF_7Gz",
        "colab_type": "code",
        "colab": {
          "base_uri": "https://localhost:8080/",
          "height": 406
        },
        "outputId": "f238c486-6c08-4dc6-a238-298151b78237"
      },
      "source": [
        "\n",
        "df2 = telcom_2[[\"PRODUCT\",\"VALUE\",\"DATE_TIME\", \"CELL_ID\"]]\n",
        "df2"
      ],
      "execution_count": 40,
      "outputs": [
        {
          "output_type": "execute_result",
          "data": {
            "text/html": [
              "<div>\n",
              "<style scoped>\n",
              "    .dataframe tbody tr th:only-of-type {\n",
              "        vertical-align: middle;\n",
              "    }\n",
              "\n",
              "    .dataframe tbody tr th {\n",
              "        vertical-align: top;\n",
              "    }\n",
              "\n",
              "    .dataframe thead th {\n",
              "        text-align: right;\n",
              "    }\n",
              "</style>\n",
              "<table border=\"1\" class=\"dataframe\">\n",
              "  <thead>\n",
              "    <tr style=\"text-align: right;\">\n",
              "      <th></th>\n",
              "      <th>PRODUCT</th>\n",
              "      <th>VALUE</th>\n",
              "      <th>DATE_TIME</th>\n",
              "      <th>CELL_ID</th>\n",
              "    </tr>\n",
              "  </thead>\n",
              "  <tbody>\n",
              "    <tr>\n",
              "      <th>0</th>\n",
              "      <td>sms</td>\n",
              "      <td>0</td>\n",
              "      <td>2012-05-07 23:02:06.0</td>\n",
              "      <td>+854AcBQT2</td>\n",
              "    </tr>\n",
              "    <tr>\n",
              "      <th>1</th>\n",
              "      <td>Voice</td>\n",
              "      <td>0</td>\n",
              "      <td>2012-05-07 23:03:44.0</td>\n",
              "      <td>+854AcBQT2</td>\n",
              "    </tr>\n",
              "    <tr>\n",
              "      <th>2</th>\n",
              "      <td>sms</td>\n",
              "      <td>0</td>\n",
              "      <td>2012-05-07 23:04:06.0</td>\n",
              "      <td>+laSrk7g6q</td>\n",
              "    </tr>\n",
              "    <tr>\n",
              "      <th>3</th>\n",
              "      <td>Voice</td>\n",
              "      <td>37</td>\n",
              "      <td>2012-05-07 23:04:48.0</td>\n",
              "      <td>/xvRrCVKoQ</td>\n",
              "    </tr>\n",
              "    <tr>\n",
              "      <th>4</th>\n",
              "      <td>sms</td>\n",
              "      <td>25</td>\n",
              "      <td>2012-05-07 23:04:58.0</td>\n",
              "      <td>+bO+qkSonO</td>\n",
              "    </tr>\n",
              "    <tr>\n",
              "      <th>...</th>\n",
              "      <td>...</td>\n",
              "      <td>...</td>\n",
              "      <td>...</td>\n",
              "      <td>...</td>\n",
              "    </tr>\n",
              "    <tr>\n",
              "      <th>4996</th>\n",
              "      <td>sms</td>\n",
              "      <td>0</td>\n",
              "      <td>2012-05-08 00:01:53.0</td>\n",
              "      <td>896459aace</td>\n",
              "    </tr>\n",
              "    <tr>\n",
              "      <th>4997</th>\n",
              "      <td>sms</td>\n",
              "      <td>25</td>\n",
              "      <td>2012-05-08 00:01:53.0</td>\n",
              "      <td>7e90b35166</td>\n",
              "    </tr>\n",
              "    <tr>\n",
              "      <th>4998</th>\n",
              "      <td>sms</td>\n",
              "      <td>0</td>\n",
              "      <td>2012-05-08 00:01:53.0</td>\n",
              "      <td>fe70e431df</td>\n",
              "    </tr>\n",
              "    <tr>\n",
              "      <th>4999</th>\n",
              "      <td>data</td>\n",
              "      <td>0</td>\n",
              "      <td>2012-05-08 00:01:53.0</td>\n",
              "      <td>ffa6759bb2</td>\n",
              "    </tr>\n",
              "    <tr>\n",
              "      <th>5000</th>\n",
              "      <td>Voice</td>\n",
              "      <td>0</td>\n",
              "      <td>2012-05-08 00:01:53.0</td>\n",
              "      <td>8630058aca</td>\n",
              "    </tr>\n",
              "  </tbody>\n",
              "</table>\n",
              "<p>5001 rows × 4 columns</p>\n",
              "</div>"
            ],
            "text/plain": [
              "     PRODUCT  VALUE              DATE_TIME     CELL_ID\n",
              "0        sms      0  2012-05-07 23:02:06.0  +854AcBQT2\n",
              "1      Voice      0  2012-05-07 23:03:44.0  +854AcBQT2\n",
              "2        sms      0  2012-05-07 23:04:06.0  +laSrk7g6q\n",
              "3      Voice     37  2012-05-07 23:04:48.0  /xvRrCVKoQ\n",
              "4        sms     25  2012-05-07 23:04:58.0  +bO+qkSonO\n",
              "...      ...    ...                    ...         ...\n",
              "4996     sms      0  2012-05-08 00:01:53.0  896459aace\n",
              "4997     sms     25  2012-05-08 00:01:53.0  7e90b35166\n",
              "4998     sms      0  2012-05-08 00:01:53.0  fe70e431df\n",
              "4999    data      0  2012-05-08 00:01:53.0  ffa6759bb2\n",
              "5000   Voice      0  2012-05-08 00:01:53.0  8630058aca\n",
              "\n",
              "[5001 rows x 4 columns]"
            ]
          },
          "metadata": {
            "tags": []
          },
          "execution_count": 40
        }
      ]
    },
    {
      "cell_type": "code",
      "metadata": {
        "id": "Mr6bahEBAhX_",
        "colab_type": "code",
        "colab": {
          "base_uri": "https://localhost:8080/",
          "height": 105
        },
        "outputId": "da67d52c-ba81-4a01-ef9b-6e5b28cd8fe2"
      },
      "source": [
        "df2[df2['PRODUCT'] == \"sms\"].count()"
      ],
      "execution_count": 43,
      "outputs": [
        {
          "output_type": "execute_result",
          "data": {
            "text/plain": [
              "PRODUCT      2329\n",
              "VALUE        2329\n",
              "DATE_TIME    2329\n",
              "CELL_ID      2329\n",
              "dtype: int64"
            ]
          },
          "metadata": {
            "tags": []
          },
          "execution_count": 43
        }
      ]
    },
    {
      "cell_type": "code",
      "metadata": {
        "id": "hADuI-IZAx1Q",
        "colab_type": "code",
        "colab": {
          "base_uri": "https://localhost:8080/",
          "height": 105
        },
        "outputId": "46c3dee7-f44e-43ca-d4a1-6bb5ee41e2d9"
      },
      "source": [
        "df2[df2['PRODUCT'] == \"Voice\"].count()"
      ],
      "execution_count": 44,
      "outputs": [
        {
          "output_type": "execute_result",
          "data": {
            "text/plain": [
              "PRODUCT      1906\n",
              "VALUE        1906\n",
              "DATE_TIME    1906\n",
              "CELL_ID      1906\n",
              "dtype: int64"
            ]
          },
          "metadata": {
            "tags": []
          },
          "execution_count": 44
        }
      ]
    },
    {
      "cell_type": "code",
      "metadata": {
        "id": "AOBVAd9_A6JE",
        "colab_type": "code",
        "colab": {
          "base_uri": "https://localhost:8080/",
          "height": 406
        },
        "outputId": "631cc0d7-9a1f-4b85-dc12-b719d674eb4d"
      },
      "source": [
        "df3 = telcom_3[[\"PRODUCT\",\"VALUE\",\"DATE_TIME\", \"CELLID\"]]\n",
        "df3"
      ],
      "execution_count": 48,
      "outputs": [
        {
          "output_type": "execute_result",
          "data": {
            "text/html": [
              "<div>\n",
              "<style scoped>\n",
              "    .dataframe tbody tr th:only-of-type {\n",
              "        vertical-align: middle;\n",
              "    }\n",
              "\n",
              "    .dataframe tbody tr th {\n",
              "        vertical-align: top;\n",
              "    }\n",
              "\n",
              "    .dataframe thead th {\n",
              "        text-align: right;\n",
              "    }\n",
              "</style>\n",
              "<table border=\"1\" class=\"dataframe\">\n",
              "  <thead>\n",
              "    <tr style=\"text-align: right;\">\n",
              "      <th></th>\n",
              "      <th>PRODUCT</th>\n",
              "      <th>VALUE</th>\n",
              "      <th>DATE_TIME</th>\n",
              "      <th>CELLID</th>\n",
              "    </tr>\n",
              "  </thead>\n",
              "  <tbody>\n",
              "    <tr>\n",
              "      <th>0</th>\n",
              "      <td>Voice</td>\n",
              "      <td>61</td>\n",
              "      <td>2012-05-08 23:01:28.0</td>\n",
              "      <td>+38u2u/rfx</td>\n",
              "    </tr>\n",
              "    <tr>\n",
              "      <th>1</th>\n",
              "      <td>sms</td>\n",
              "      <td>0</td>\n",
              "      <td>2012-05-08 23:01:31.0</td>\n",
              "      <td>+Fs4mTvdKx</td>\n",
              "    </tr>\n",
              "    <tr>\n",
              "      <th>2</th>\n",
              "      <td>Voice</td>\n",
              "      <td>10</td>\n",
              "      <td>2012-05-08 23:02:59.0</td>\n",
              "      <td>+ZaaZozy/+</td>\n",
              "    </tr>\n",
              "    <tr>\n",
              "      <th>3</th>\n",
              "      <td>sms</td>\n",
              "      <td>0</td>\n",
              "      <td>2012-05-08 23:03:04.0</td>\n",
              "      <td>+cNeJzsTp3</td>\n",
              "    </tr>\n",
              "    <tr>\n",
              "      <th>4</th>\n",
              "      <td>Voice</td>\n",
              "      <td>22</td>\n",
              "      <td>2012-05-08 23:03:16.0</td>\n",
              "      <td>/eeMklgyJA</td>\n",
              "    </tr>\n",
              "    <tr>\n",
              "      <th>...</th>\n",
              "      <td>...</td>\n",
              "      <td>...</td>\n",
              "      <td>...</td>\n",
              "      <td>...</td>\n",
              "    </tr>\n",
              "    <tr>\n",
              "      <th>4996</th>\n",
              "      <td>Voice</td>\n",
              "      <td>0</td>\n",
              "      <td>2012-05-09 00:01:43.0</td>\n",
              "      <td>2aa04dcab7</td>\n",
              "    </tr>\n",
              "    <tr>\n",
              "      <th>4997</th>\n",
              "      <td>Voice</td>\n",
              "      <td>62</td>\n",
              "      <td>2012-05-09 00:01:43.0</td>\n",
              "      <td>7f1f2f889f</td>\n",
              "    </tr>\n",
              "    <tr>\n",
              "      <th>4998</th>\n",
              "      <td>Voice</td>\n",
              "      <td>32</td>\n",
              "      <td>2012-05-09 00:01:43.0</td>\n",
              "      <td>a4731e780e</td>\n",
              "    </tr>\n",
              "    <tr>\n",
              "      <th>4999</th>\n",
              "      <td>Voice</td>\n",
              "      <td>30</td>\n",
              "      <td>2012-05-09 00:01:43.0</td>\n",
              "      <td>98ed726da2</td>\n",
              "    </tr>\n",
              "    <tr>\n",
              "      <th>5000</th>\n",
              "      <td>Voice</td>\n",
              "      <td>60</td>\n",
              "      <td>2012-05-09 00:01:43.0</td>\n",
              "      <td>1c11a2fcbb</td>\n",
              "    </tr>\n",
              "  </tbody>\n",
              "</table>\n",
              "<p>5001 rows × 4 columns</p>\n",
              "</div>"
            ],
            "text/plain": [
              "     PRODUCT  VALUE              DATE_TIME      CELLID\n",
              "0      Voice     61  2012-05-08 23:01:28.0  +38u2u/rfx\n",
              "1        sms      0  2012-05-08 23:01:31.0  +Fs4mTvdKx\n",
              "2      Voice     10  2012-05-08 23:02:59.0  +ZaaZozy/+\n",
              "3        sms      0  2012-05-08 23:03:04.0  +cNeJzsTp3\n",
              "4      Voice     22  2012-05-08 23:03:16.0  /eeMklgyJA\n",
              "...      ...    ...                    ...         ...\n",
              "4996   Voice      0  2012-05-09 00:01:43.0  2aa04dcab7\n",
              "4997   Voice     62  2012-05-09 00:01:43.0  7f1f2f889f\n",
              "4998   Voice     32  2012-05-09 00:01:43.0  a4731e780e\n",
              "4999   Voice     30  2012-05-09 00:01:43.0  98ed726da2\n",
              "5000   Voice     60  2012-05-09 00:01:43.0  1c11a2fcbb\n",
              "\n",
              "[5001 rows x 4 columns]"
            ]
          },
          "metadata": {
            "tags": []
          },
          "execution_count": 48
        }
      ]
    },
    {
      "cell_type": "code",
      "metadata": {
        "id": "d2X1qjIEBMVy",
        "colab_type": "code",
        "colab": {
          "base_uri": "https://localhost:8080/",
          "height": 105
        },
        "outputId": "cbbf8fc9-706a-4692-9d1f-8ef1d148b149"
      },
      "source": [
        "df3[df3['PRODUCT'] == \"sms\"].count()"
      ],
      "execution_count": 49,
      "outputs": [
        {
          "output_type": "execute_result",
          "data": {
            "text/plain": [
              "PRODUCT      2767\n",
              "VALUE        2767\n",
              "DATE_TIME    2767\n",
              "CELLID       2767\n",
              "dtype: int64"
            ]
          },
          "metadata": {
            "tags": []
          },
          "execution_count": 49
        }
      ]
    },
    {
      "cell_type": "code",
      "metadata": {
        "id": "rfg72Q2eBhIO",
        "colab_type": "code",
        "colab": {
          "base_uri": "https://localhost:8080/",
          "height": 105
        },
        "outputId": "fcb3ca2b-ad60-4a2b-b0c7-ddc51ed95740"
      },
      "source": [
        "df3[df3['PRODUCT'] == \"Voice\"].count()\n"
      ],
      "execution_count": 50,
      "outputs": [
        {
          "output_type": "execute_result",
          "data": {
            "text/plain": [
              "PRODUCT      1541\n",
              "VALUE        1541\n",
              "DATE_TIME    1541\n",
              "CELLID       1541\n",
              "dtype: int64"
            ]
          },
          "metadata": {
            "tags": []
          },
          "execution_count": 50
        }
      ]
    },
    {
      "cell_type": "code",
      "metadata": {
        "id": "8h7wBuKtBnsQ",
        "colab_type": "code",
        "colab": {
          "base_uri": "https://localhost:8080/",
          "height": 34
        },
        "outputId": "e042c7b5-30e3-4063-e068-7e9eab7be321"
      },
      "source": [
        "# To get the most used infrastructure, we get the most used site \n",
        "df1[df1['PRODUTC'] == \"Voice\"].CELL_ID.max()"
      ],
      "execution_count": 60,
      "outputs": [
        {
          "output_type": "execute_result",
          "data": {
            "text/plain": [
              "'ffcc507579'"
            ]
          },
          "metadata": {
            "tags": []
          },
          "execution_count": 60
        }
      ]
    },
    {
      "cell_type": "code",
      "metadata": {
        "id": "dkU4QFAADVY2",
        "colab_type": "code",
        "colab": {
          "base_uri": "https://localhost:8080/",
          "height": 34
        },
        "outputId": "4c61282f-3ac2-4fe9-c566-840aab3997d3"
      },
      "source": [
        "df1[df1['PRODUTC'] == \"sms\"].CELL_ID.max()"
      ],
      "execution_count": 61,
      "outputs": [
        {
          "output_type": "execute_result",
          "data": {
            "text/plain": [
              "'ffcc507579'"
            ]
          },
          "metadata": {
            "tags": []
          },
          "execution_count": 61
        }
      ]
    },
    {
      "cell_type": "code",
      "metadata": {
        "id": "TMUA6ZKNEqEQ",
        "colab_type": "code",
        "colab": {
          "base_uri": "https://localhost:8080/",
          "height": 34
        },
        "outputId": "02cfb366-3c6e-4bbd-c063-3e05e8ae7a5f"
      },
      "source": [
        "df2[df2['PRODUCT'] == \"Voice\"].CELL_ID.max()"
      ],
      "execution_count": 62,
      "outputs": [
        {
          "output_type": "execute_result",
          "data": {
            "text/plain": [
              "'ffb86d66d2'"
            ]
          },
          "metadata": {
            "tags": []
          },
          "execution_count": 62
        }
      ]
    },
    {
      "cell_type": "code",
      "metadata": {
        "id": "vXOvMuTmE0ls",
        "colab_type": "code",
        "colab": {
          "base_uri": "https://localhost:8080/",
          "height": 34
        },
        "outputId": "83994992-5571-45ed-db0d-84c91b736b5b"
      },
      "source": [
        "df2[df2['PRODUCT'] == \"sms\"].CELL_ID.max()"
      ],
      "execution_count": 63,
      "outputs": [
        {
          "output_type": "execute_result",
          "data": {
            "text/plain": [
              "'ffcc507579'"
            ]
          },
          "metadata": {
            "tags": []
          },
          "execution_count": 63
        }
      ]
    },
    {
      "cell_type": "code",
      "metadata": {
        "id": "XGnOfqxlFARr",
        "colab_type": "code",
        "colab": {
          "base_uri": "https://localhost:8080/",
          "height": 34
        },
        "outputId": "8acfbc48-7d6b-4bc0-bbf1-9715886f7708"
      },
      "source": [
        "df3[df3['PRODUCT'] == \"Voice\"].CELLID.max()"
      ],
      "execution_count": 64,
      "outputs": [
        {
          "output_type": "execute_result",
          "data": {
            "text/plain": [
              "'fed537f3b2'"
            ]
          },
          "metadata": {
            "tags": []
          },
          "execution_count": 64
        }
      ]
    },
    {
      "cell_type": "code",
      "metadata": {
        "id": "kgxcXW7OFQbj",
        "colab_type": "code",
        "colab": {
          "base_uri": "https://localhost:8080/",
          "height": 34
        },
        "outputId": "aef440dd-3a7b-4aa2-a502-e9007bb7d7db"
      },
      "source": [
        "df3[df3['PRODUCT'] == \"sms\"].CELLID.max()"
      ],
      "execution_count": 65,
      "outputs": [
        {
          "output_type": "execute_result",
          "data": {
            "text/plain": [
              "'ff99709d62'"
            ]
          },
          "metadata": {
            "tags": []
          },
          "execution_count": 65
        }
      ]
    },
    {
      "cell_type": "code",
      "metadata": {
        "id": "nAIe1pzZFcJm",
        "colab_type": "code",
        "colab": {}
      },
      "source": [
        "# Which city with highest number of voice calls\n",
        "\n",
        "df_new = cells_geo.groupby('STATUS')['CELL_ID'].count()\n",
        "df_new\n",
        "df_new.sort_values(ascending=False).iloc[:5]"
      ],
      "execution_count": 0,
      "outputs": []
    },
    {
      "cell_type": "code",
      "metadata": {
        "id": "b0S7rqgelzCm",
        "colab_type": "code",
        "colab": {}
      },
      "source": [
        "cells_geo[cells_geo[';STATUS'] == \"In Service\"].count()"
      ],
      "execution_count": 0,
      "outputs": []
    },
    {
      "cell_type": "code",
      "metadata": {
        "id": "OgQ6LR6GmmEw",
        "colab_type": "code",
        "colab": {
          "base_uri": "https://localhost:8080/",
          "height": 212
        },
        "outputId": "23dd6664-3064-4fa7-c5b8-1bf7b70dda1a"
      },
      "source": [
        "cells_geo.columns.str.split(';').str[0].tolist()\n",
        "['VILLES','STATUS','LOCALISATION','DECOUPZONE','ZONENAME','LONGITUDE','LATITUDE','REGION','AREA','CELL_ID','SITE_CODE']"
      ],
      "execution_count": 22,
      "outputs": [
        {
          "output_type": "execute_result",
          "data": {
            "text/plain": [
              "['VILLES',\n",
              " 'STATUS',\n",
              " 'LOCALISATION',\n",
              " 'DECOUPZONE',\n",
              " 'ZONENAME',\n",
              " 'LONGITUDE',\n",
              " 'LATITUDE',\n",
              " 'REGION',\n",
              " 'AREA',\n",
              " 'CELL_ID',\n",
              " 'SITE_CODE']"
            ]
          },
          "metadata": {
            "tags": []
          },
          "execution_count": 22
        }
      ]
    },
    {
      "cell_type": "code",
      "metadata": {
        "id": "Q0c4R5kLPjgo",
        "colab_type": "code",
        "colab": {
          "base_uri": "https://localhost:8080/",
          "height": 197
        },
        "outputId": "d5521925-cefc-47fb-a099-6fefc882bb3c"
      },
      "source": [
        "#merging 1, 2, 3 datasets\n",
        "frames = [telcom_1, telcom_2, telcom_3]\n",
        "df4 = pd.concat(frames)\n",
        "df4.head()"
      ],
      "execution_count": 46,
      "outputs": [
        {
          "output_type": "execute_result",
          "data": {
            "text/html": [
              "<div>\n",
              "<style scoped>\n",
              "    .dataframe tbody tr th:only-of-type {\n",
              "        vertical-align: middle;\n",
              "    }\n",
              "\n",
              "    .dataframe tbody tr th {\n",
              "        vertical-align: top;\n",
              "    }\n",
              "\n",
              "    .dataframe thead th {\n",
              "        text-align: right;\n",
              "    }\n",
              "</style>\n",
              "<table border=\"1\" class=\"dataframe\">\n",
              "  <thead>\n",
              "    <tr style=\"text-align: right;\">\n",
              "      <th></th>\n",
              "      <th>PRODUCT</th>\n",
              "      <th>VALUE</th>\n",
              "      <th>DATE_TIME</th>\n",
              "      <th>CELL_ON_SITE</th>\n",
              "      <th>DW_A_NUMBER</th>\n",
              "      <th>DW_B_NUMBER</th>\n",
              "      <th>COUNTRY_A</th>\n",
              "      <th>COUNTRY_B</th>\n",
              "      <th>CELL_ID</th>\n",
              "      <th>SITE_ID</th>\n",
              "    </tr>\n",
              "  </thead>\n",
              "  <tbody>\n",
              "    <tr>\n",
              "      <th>0</th>\n",
              "      <td>Voice</td>\n",
              "      <td>0</td>\n",
              "      <td>2012-05-06 23:04:37.0</td>\n",
              "      <td>1</td>\n",
              "      <td>49fae048b547780</td>\n",
              "      <td>1a49f8b0ded9de6</td>\n",
              "      <td>19e2e</td>\n",
              "      <td>19e2e</td>\n",
              "      <td>/TJNe+Mmtu</td>\n",
              "      <td>/TJNe+Mmtu</td>\n",
              "    </tr>\n",
              "    <tr>\n",
              "      <th>1</th>\n",
              "      <td>sms</td>\n",
              "      <td>0</td>\n",
              "      <td>2012-05-06 23:05:25.0</td>\n",
              "      <td>0</td>\n",
              "      <td>7a54a6eaee19e65</td>\n",
              "      <td>93343ba6e41af95</td>\n",
              "      <td>19e2e</td>\n",
              "      <td>19e2e</td>\n",
              "      <td>/+cKZKIp41</td>\n",
              "      <td>/+cKZKIp41</td>\n",
              "    </tr>\n",
              "    <tr>\n",
              "      <th>2</th>\n",
              "      <td>sms</td>\n",
              "      <td>25</td>\n",
              "      <td>2012-05-06 23:05:41.0</td>\n",
              "      <td>0</td>\n",
              "      <td>6008887b0207d82</td>\n",
              "      <td>7aacc9709ce0a20</td>\n",
              "      <td>19e2e</td>\n",
              "      <td>19e2e</td>\n",
              "      <td>/u0FSD+ahi</td>\n",
              "      <td>/u0FSD+ahi</td>\n",
              "    </tr>\n",
              "    <tr>\n",
              "      <th>3</th>\n",
              "      <td>Voice</td>\n",
              "      <td>56</td>\n",
              "      <td>2012-05-06 23:05:42.0</td>\n",
              "      <td>1</td>\n",
              "      <td>7370032e20f4e96</td>\n",
              "      <td>6af4a60e74c91d3</td>\n",
              "      <td>19e2e</td>\n",
              "      <td>19e2e</td>\n",
              "      <td>+cNeJzsTp3</td>\n",
              "      <td>+cNeJzsTp3</td>\n",
              "    </tr>\n",
              "    <tr>\n",
              "      <th>4</th>\n",
              "      <td>Voice</td>\n",
              "      <td>14</td>\n",
              "      <td>2012-05-06 23:06:29.0</td>\n",
              "      <td>1</td>\n",
              "      <td>966ba4656e38e62</td>\n",
              "      <td>02aa736ee555d5c</td>\n",
              "      <td>19e2e</td>\n",
              "      <td>19e2e</td>\n",
              "      <td>051KhYDCpv</td>\n",
              "      <td>051KhYDCpv</td>\n",
              "    </tr>\n",
              "  </tbody>\n",
              "</table>\n",
              "</div>"
            ],
            "text/plain": [
              "  PRODUCT  VALUE              DATE_TIME  ... COUNTRY_B     CELL_ID     SITE_ID\n",
              "0   Voice      0  2012-05-06 23:04:37.0  ...     19e2e  /TJNe+Mmtu  /TJNe+Mmtu\n",
              "1     sms      0  2012-05-06 23:05:25.0  ...     19e2e  /+cKZKIp41  /+cKZKIp41\n",
              "2     sms     25  2012-05-06 23:05:41.0  ...     19e2e  /u0FSD+ahi  /u0FSD+ahi\n",
              "3   Voice     56  2012-05-06 23:05:42.0  ...     19e2e  +cNeJzsTp3  +cNeJzsTp3\n",
              "4   Voice     14  2012-05-06 23:06:29.0  ...     19e2e  051KhYDCpv  051KhYDCpv\n",
              "\n",
              "[5 rows x 10 columns]"
            ]
          },
          "metadata": {
            "tags": []
          },
          "execution_count": 46
        }
      ]
    },
    {
      "cell_type": "code",
      "metadata": {
        "id": "Ga1tXMSnQe-7",
        "colab_type": "code",
        "colab": {
          "base_uri": "https://localhost:8080/",
          "height": 317
        },
        "outputId": "74cba752-d3b7-4bcf-a9ef-34674a89e008"
      },
      "source": [
        "df5 = pd.merge(df4,cells_geo, on =('CELL_ID','SITE_ID'), how = 'outer')\n",
        "df5.head()"
      ],
      "execution_count": 47,
      "outputs": [
        {
          "output_type": "execute_result",
          "data": {
            "text/html": [
              "<div>\n",
              "<style scoped>\n",
              "    .dataframe tbody tr th:only-of-type {\n",
              "        vertical-align: middle;\n",
              "    }\n",
              "\n",
              "    .dataframe tbody tr th {\n",
              "        vertical-align: top;\n",
              "    }\n",
              "\n",
              "    .dataframe thead th {\n",
              "        text-align: right;\n",
              "    }\n",
              "</style>\n",
              "<table border=\"1\" class=\"dataframe\">\n",
              "  <thead>\n",
              "    <tr style=\"text-align: right;\">\n",
              "      <th></th>\n",
              "      <th>PRODUCT</th>\n",
              "      <th>VALUE</th>\n",
              "      <th>DATE_TIME</th>\n",
              "      <th>CELL_ON_SITE</th>\n",
              "      <th>DW_A_NUMBER</th>\n",
              "      <th>DW_B_NUMBER</th>\n",
              "      <th>COUNTRY_A</th>\n",
              "      <th>COUNTRY_B</th>\n",
              "      <th>CELL_ID</th>\n",
              "      <th>SITE_ID</th>\n",
              "      <th>Unnamed: 0</th>\n",
              "      <th>VILLES</th>\n",
              "      <th>STATUS</th>\n",
              "      <th>LOCALISATION</th>\n",
              "      <th>DECOUPZONE</th>\n",
              "      <th>ZONENAME</th>\n",
              "      <th>LONGITUDE</th>\n",
              "      <th>LATITUDE</th>\n",
              "      <th>REGION</th>\n",
              "      <th>AREA</th>\n",
              "    </tr>\n",
              "  </thead>\n",
              "  <tbody>\n",
              "    <tr>\n",
              "      <th>0</th>\n",
              "      <td>Voice</td>\n",
              "      <td>0.0</td>\n",
              "      <td>2012-05-06 23:04:37.0</td>\n",
              "      <td>1</td>\n",
              "      <td>49fae048b547780</td>\n",
              "      <td>1a49f8b0ded9de6</td>\n",
              "      <td>19e2e</td>\n",
              "      <td>19e2e</td>\n",
              "      <td>/TJNe+Mmtu</td>\n",
              "      <td>/TJNe+Mmtu</td>\n",
              "      <td>NaN</td>\n",
              "      <td>NaN</td>\n",
              "      <td>NaN</td>\n",
              "      <td>NaN</td>\n",
              "      <td>NaN</td>\n",
              "      <td>NaN</td>\n",
              "      <td>NaN</td>\n",
              "      <td>NaN</td>\n",
              "      <td>NaN</td>\n",
              "      <td>NaN</td>\n",
              "    </tr>\n",
              "    <tr>\n",
              "      <th>1</th>\n",
              "      <td>sms</td>\n",
              "      <td>0.0</td>\n",
              "      <td>2012-05-06 23:40:48.0</td>\n",
              "      <td>2</td>\n",
              "      <td>4cbd182a22597a7</td>\n",
              "      <td>810b6d559a604d4</td>\n",
              "      <td>19e2e</td>\n",
              "      <td>19e2e</td>\n",
              "      <td>/TJNe+Mmtu</td>\n",
              "      <td>/TJNe+Mmtu</td>\n",
              "      <td>NaN</td>\n",
              "      <td>NaN</td>\n",
              "      <td>NaN</td>\n",
              "      <td>NaN</td>\n",
              "      <td>NaN</td>\n",
              "      <td>NaN</td>\n",
              "      <td>NaN</td>\n",
              "      <td>NaN</td>\n",
              "      <td>NaN</td>\n",
              "      <td>NaN</td>\n",
              "    </tr>\n",
              "    <tr>\n",
              "      <th>2</th>\n",
              "      <td>sms</td>\n",
              "      <td>0.0</td>\n",
              "      <td>2012-05-07 23:32:47.0</td>\n",
              "      <td>4</td>\n",
              "      <td>3f4e6ce60805187</td>\n",
              "      <td>2e793844669c170</td>\n",
              "      <td>19e2e</td>\n",
              "      <td>19e2e</td>\n",
              "      <td>/TJNe+Mmtu</td>\n",
              "      <td>/TJNe+Mmtu</td>\n",
              "      <td>NaN</td>\n",
              "      <td>NaN</td>\n",
              "      <td>NaN</td>\n",
              "      <td>NaN</td>\n",
              "      <td>NaN</td>\n",
              "      <td>NaN</td>\n",
              "      <td>NaN</td>\n",
              "      <td>NaN</td>\n",
              "      <td>NaN</td>\n",
              "      <td>NaN</td>\n",
              "    </tr>\n",
              "    <tr>\n",
              "      <th>3</th>\n",
              "      <td>sms</td>\n",
              "      <td>0.0</td>\n",
              "      <td>2012-05-07 23:52:21.0</td>\n",
              "      <td>1</td>\n",
              "      <td>6f963e4d1fc4de8</td>\n",
              "      <td>e09e736e46c5c3d</td>\n",
              "      <td>19e2e</td>\n",
              "      <td>19e2e</td>\n",
              "      <td>/TJNe+Mmtu</td>\n",
              "      <td>/TJNe+Mmtu</td>\n",
              "      <td>NaN</td>\n",
              "      <td>NaN</td>\n",
              "      <td>NaN</td>\n",
              "      <td>NaN</td>\n",
              "      <td>NaN</td>\n",
              "      <td>NaN</td>\n",
              "      <td>NaN</td>\n",
              "      <td>NaN</td>\n",
              "      <td>NaN</td>\n",
              "      <td>NaN</td>\n",
              "    </tr>\n",
              "    <tr>\n",
              "      <th>4</th>\n",
              "      <td>data</td>\n",
              "      <td>0.0</td>\n",
              "      <td>2012-05-07 23:53:21.0</td>\n",
              "      <td>_</td>\n",
              "      <td>a7a06f3affefa96</td>\n",
              "      <td>5a4dc9e82deb309</td>\n",
              "      <td>19e2e</td>\n",
              "      <td>OTHER</td>\n",
              "      <td>/TJNe+Mmtu</td>\n",
              "      <td>/TJNe+Mmtu</td>\n",
              "      <td>NaN</td>\n",
              "      <td>NaN</td>\n",
              "      <td>NaN</td>\n",
              "      <td>NaN</td>\n",
              "      <td>NaN</td>\n",
              "      <td>NaN</td>\n",
              "      <td>NaN</td>\n",
              "      <td>NaN</td>\n",
              "      <td>NaN</td>\n",
              "      <td>NaN</td>\n",
              "    </tr>\n",
              "  </tbody>\n",
              "</table>\n",
              "</div>"
            ],
            "text/plain": [
              "  PRODUCT  VALUE              DATE_TIME  ... LATITUDE REGION AREA\n",
              "0   Voice    0.0  2012-05-06 23:04:37.0  ...      NaN    NaN  NaN\n",
              "1     sms    0.0  2012-05-06 23:40:48.0  ...      NaN    NaN  NaN\n",
              "2     sms    0.0  2012-05-07 23:32:47.0  ...      NaN    NaN  NaN\n",
              "3     sms    0.0  2012-05-07 23:52:21.0  ...      NaN    NaN  NaN\n",
              "4    data    0.0  2012-05-07 23:53:21.0  ...      NaN    NaN  NaN\n",
              "\n",
              "[5 rows x 20 columns]"
            ]
          },
          "metadata": {
            "tags": []
          },
          "execution_count": 47
        }
      ]
    },
    {
      "cell_type": "code",
      "metadata": {
        "id": "N7WfWpePTE_Q",
        "colab_type": "code",
        "colab": {
          "base_uri": "https://localhost:8080/",
          "height": 84
        },
        "outputId": "31848c9b-e04c-43fc-bed3-788d303f14c3"
      },
      "source": [
        "df5.drop_duplicates() #checking for duplicate values\n",
        "df5.isna() #checking for missing values number\n",
        "df5.drop(['Unnamed: 0', 'VILLES','STATUS','LOCALISATION','DECOUPZONE','ZONENAME','LONGITUDE','LATITUDE','REGION','AREA', 'COUNTRY_A', 'COUNTRY_B'], axis = 1) #dropping columns\n",
        "df6 = df5.dropna(how = \"any\") #drops records with any missing values\n",
        "df6"
      ],
      "execution_count": 48,
      "outputs": [
        {
          "output_type": "execute_result",
          "data": {
            "text/html": [
              "<div>\n",
              "<style scoped>\n",
              "    .dataframe tbody tr th:only-of-type {\n",
              "        vertical-align: middle;\n",
              "    }\n",
              "\n",
              "    .dataframe tbody tr th {\n",
              "        vertical-align: top;\n",
              "    }\n",
              "\n",
              "    .dataframe thead th {\n",
              "        text-align: right;\n",
              "    }\n",
              "</style>\n",
              "<table border=\"1\" class=\"dataframe\">\n",
              "  <thead>\n",
              "    <tr style=\"text-align: right;\">\n",
              "      <th></th>\n",
              "      <th>PRODUCT</th>\n",
              "      <th>VALUE</th>\n",
              "      <th>DATE_TIME</th>\n",
              "      <th>CELL_ON_SITE</th>\n",
              "      <th>DW_A_NUMBER</th>\n",
              "      <th>DW_B_NUMBER</th>\n",
              "      <th>COUNTRY_A</th>\n",
              "      <th>COUNTRY_B</th>\n",
              "      <th>CELL_ID</th>\n",
              "      <th>SITE_ID</th>\n",
              "      <th>Unnamed: 0</th>\n",
              "      <th>VILLES</th>\n",
              "      <th>STATUS</th>\n",
              "      <th>LOCALISATION</th>\n",
              "      <th>DECOUPZONE</th>\n",
              "      <th>ZONENAME</th>\n",
              "      <th>LONGITUDE</th>\n",
              "      <th>LATITUDE</th>\n",
              "      <th>REGION</th>\n",
              "      <th>AREA</th>\n",
              "    </tr>\n",
              "  </thead>\n",
              "  <tbody>\n",
              "  </tbody>\n",
              "</table>\n",
              "</div>"
            ],
            "text/plain": [
              "Empty DataFrame\n",
              "Columns: [PRODUCT, VALUE, DATE_TIME, CELL_ON_SITE, DW_A_NUMBER, DW_B_NUMBER, COUNTRY_A, COUNTRY_B, CELL_ID, SITE_ID, Unnamed: 0, VILLES, STATUS, LOCALISATION, DECOUPZONE, ZONENAME, LONGITUDE, LATITUDE, REGION, AREA]\n",
              "Index: []"
            ]
          },
          "metadata": {
            "tags": []
          },
          "execution_count": 48
        }
      ]
    },
    {
      "cell_type": "code",
      "metadata": {
        "id": "ySI3AeP1X94O",
        "colab_type": "code",
        "colab": {
          "base_uri": "https://localhost:8080/",
          "height": 567
        },
        "outputId": "088c1678-038e-45c0-cf9e-94115767c2b4"
      },
      "source": [
        "#confirming that all null records have been dropped\n",
        "df6.info()"
      ],
      "execution_count": 42,
      "outputs": [
        {
          "output_type": "stream",
          "text": [
            "<class 'pandas.core.frame.DataFrame'>\n",
            "Int64Index: 0 entries\n",
            "Data columns (total 26 columns):\n",
            "CELLID             0 non-null object\n",
            "CELL_ID            0 non-null object\n",
            "CELL_ON_SITE       0 non-null object\n",
            "COUNTRY_A          0 non-null object\n",
            "COUNTRY_B          0 non-null object\n",
            "DATETIME           0 non-null object\n",
            "DATE_TIME          0 non-null object\n",
            "DW_A_NUMBER        0 non-null object\n",
            "DW_A_NUMBER_INT    0 non-null object\n",
            "DW_B_NUMBER        0 non-null object\n",
            "DW_B_NUMBER_INT    0 non-null object\n",
            "PRODUCT            0 non-null object\n",
            "PRODUTC            0 non-null object\n",
            "SIET_ID            0 non-null object\n",
            "SITE_ID            0 non-null object\n",
            "VALUE              0 non-null float64\n",
            "Unnamed: 0         0 non-null float64\n",
            "VILLES             0 non-null object\n",
            "STATUS             0 non-null object\n",
            "LOCALISATION       0 non-null object\n",
            "DECOUPZONE         0 non-null object\n",
            "ZONENAME           0 non-null object\n",
            "LONGITUDE          0 non-null float64\n",
            "LATITUDE           0 non-null float64\n",
            "REGION             0 non-null object\n",
            "AREA               0 non-null object\n",
            "dtypes: float64(4), object(22)\n",
            "memory usage: 0.0+ bytes\n"
          ],
          "name": "stdout"
        }
      ]
    },
    {
      "cell_type": "code",
      "metadata": {
        "id": "TzWHBaf8Yyt7",
        "colab_type": "code",
        "colab": {
          "base_uri": "https://localhost:8080/",
          "height": 105
        },
        "outputId": "7c640d63-e5b2-46a1-c8ae-cfc4ec7bfcb0"
      },
      "source": [
        "# grouping values\n",
        "df5['VALUE'].groupby(df5['PRODUCT']).mean()"
      ],
      "execution_count": 45,
      "outputs": [
        {
          "output_type": "execute_result",
          "data": {
            "text/plain": [
              "PRODUCT\n",
              "Voice    59.101828\n",
              "data      7.028787\n",
              "sms       7.840267\n",
              "Name: VALUE, dtype: float64"
            ]
          },
          "metadata": {
            "tags": []
          },
          "execution_count": 45
        }
      ]
    },
    {
      "cell_type": "code",
      "metadata": {
        "id": "8XZ3yAQqZDR-",
        "colab_type": "code",
        "colab": {}
      },
      "source": [
        ""
      ],
      "execution_count": 0,
      "outputs": []
    }
  ]
}